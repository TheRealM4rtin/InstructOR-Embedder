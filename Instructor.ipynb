{
 "cells": [
  {
   "cell_type": "code",
   "execution_count": 1,
   "id": "21037987",
   "metadata": {},
   "outputs": [
    {
     "name": "stdout",
     "output_type": "stream",
     "text": [
      "Requirement already satisfied: InstructorEmbedding in /Users/martin/opt/anaconda3/envs/embedding/lib/python3.9/site-packages (1.0.1)\r\n"
     ]
    }
   ],
   "source": [
    "!pip install InstructorEmbedding"
   ]
  },
  {
   "cell_type": "markdown",
   "id": "ea7d312f",
   "metadata": {},
   "source": [
    "## Import"
   ]
  },
  {
   "cell_type": "code",
   "execution_count": 113,
   "id": "54d361da",
   "metadata": {
    "ExecuteTime": {
     "end_time": "2023-07-13T13:16:23.147662Z",
     "start_time": "2023-07-13T13:16:20.392749Z"
    }
   },
   "outputs": [],
   "source": [
    "from InstructorEmbedding import INSTRUCTOR\n",
    "from langchain.document_loaders import PyPDFLoader\n",
    "from sklearn.metrics.pairwise import cosine_similarity\n",
    "import time"
   ]
  },
  {
   "cell_type": "markdown",
   "id": "0f845c99",
   "metadata": {},
   "source": [
    "## Path"
   ]
  },
  {
   "cell_type": "code",
   "execution_count": 114,
   "id": "9056d1dc",
   "metadata": {},
   "outputs": [],
   "source": [
    "path_chap4 = \"\"\n",
    "path_chap33 = \"\""
   ]
  },
  {
   "cell_type": "markdown",
   "id": "bee092c6",
   "metadata": {},
   "source": [
    "## Loading Documents"
   ]
  },
  {
   "cell_type": "code",
   "execution_count": 115,
   "id": "8c3f3463",
   "metadata": {},
   "outputs": [],
   "source": [
    "paths = [path_chap4, path_chap33]\n",
    "loaders = []\n",
    "for path in paths:\n",
    "  loaders.append(PyPDFLoader(path))"
   ]
  },
  {
   "cell_type": "code",
   "execution_count": 116,
   "id": "31993357",
   "metadata": {},
   "outputs": [],
   "source": [
    "document = []\n",
    "for loader in loaders:\n",
    "  document.extend(loader.load())"
   ]
  },
  {
   "cell_type": "code",
   "execution_count": 117,
   "id": "bdc7190a",
   "metadata": {
    "scrolled": true
   },
   "outputs": [
    {
     "data": {
      "text/plain": [
       "26"
      ]
     },
     "execution_count": 117,
     "metadata": {},
     "output_type": "execute_result"
    }
   ],
   "source": [
    "len(document)"
   ]
  },
  {
   "cell_type": "code",
   "execution_count": 118,
   "id": "3afff81e",
   "metadata": {},
   "outputs": [
    {
     "data": {
      "text/plain": [
       "str"
      ]
     },
     "execution_count": 118,
     "metadata": {},
     "output_type": "execute_result"
    }
   ],
   "source": [
    "type(document[1].page_content)"
   ]
  },
  {
   "cell_type": "code",
   "execution_count": 33,
   "id": "580af538",
   "metadata": {},
   "outputs": [
    {
     "data": {
      "text/plain": [
       "'956 Éléments de sûreté nucléaire\\xa0–\\xa0Les réacteurs à eau sous pression\\nFigure 33.2.  Schéma cyclique dans l’approche par état. IRSN (source EDF).\\n33.6. L’approche par états pour le réacteur EPR\\nPour le réacteur EPR\\xa0Flamanville\\xa03, l’approche par états a été retenue dès la concep -\\ntion des procédures de conduite incidentelle et accidentelle. Le guidage des opérateurs \\n(« orientation et stabilisation  », voir plus haut) est toutefois automatisé.'"
      ]
     },
     "execution_count": 33,
     "metadata": {},
     "output_type": "execute_result"
    }
   ],
   "source": [
    "document[25].page_content"
   ]
  },
  {
   "cell_type": "code",
   "execution_count": 119,
   "id": "4444b391",
   "metadata": {},
   "outputs": [],
   "source": [
    "doc = []\n",
    "domain = \"Retrieving the nuclear reactor domain: \"\n",
    "for i in range(len(document)):\n",
    "    firstpart, secondpart = document[i].page_content[:len(document[i].page_content)//2], document[i].page_content[len(document[i].page_content)//2:]\n",
    "    if (len(firstpart) or len(secondpart) != 0):\n",
    "        doc.append([domain, firstpart])\n",
    "        doc.append([domain, secondpart])"
   ]
  },
  {
   "cell_type": "code",
   "execution_count": null,
   "id": "3e32dd69",
   "metadata": {
    "scrolled": true
   },
   "outputs": [],
   "source": [
    "doc"
   ]
  },
  {
   "cell_type": "markdown",
   "id": "b834620c",
   "metadata": {},
   "source": [
    "## Load Instructor Model"
   ]
  },
  {
   "cell_type": "code",
   "execution_count": 121,
   "id": "dd8b449b",
   "metadata": {},
   "outputs": [
    {
     "name": "stdout",
     "output_type": "stream",
     "text": [
      "load INSTRUCTOR_Transformer\n",
      "max_seq_length  512\n"
     ]
    }
   ],
   "source": [
    "model = INSTRUCTOR('hkunlp/instructor-xl')"
   ]
  },
  {
   "cell_type": "markdown",
   "id": "5f16201c",
   "metadata": {},
   "source": [
    "# How to write instructions\n",
    "\n",
    "_Represent the **domain** **text_type** for **task_objective**_\n",
    "\n",
    "**domain** : specifies the domain of the text (science, finance, medicine, etc.)\n",
    "\n",
    "**text_type**: specifies the encoding unit  (sentence, document, paragraph, etc.)\n",
    "\n",
    "**task_objective**: specifies the objective of embedding (retrieve a document, classify the sentence, etc.)"
   ]
  },
  {
   "cell_type": "markdown",
   "id": "fa0b0c79",
   "metadata": {},
   "source": [
    "# Defining the research question\n",
    "\n",
    "Prompt Testing with mulitple scenarios"
   ]
  },
  {
   "cell_type": "markdown",
   "id": "f213a103",
   "metadata": {},
   "source": [
    "## Queries"
   ]
  },
  {
   "cell_type": "markdown",
   "id": "e095986a",
   "metadata": {},
   "source": [
    "### - Control Query"
   ]
  },
  {
   "cell_type": "code",
   "execution_count": 65,
   "id": "d8cc8964",
   "metadata": {},
   "outputs": [],
   "source": [
    "query = [[\"Represent the nuclear reactor domain:\",\n",
    "          \"Comment sont conduites les études organisationnelles et humaines sur le terrain ?\"]]"
   ]
  },
  {
   "cell_type": "markdown",
   "id": "18d30c12",
   "metadata": {},
   "source": [
    "### - Experimental Queries"
   ]
  },
  {
   "cell_type": "code",
   "execution_count": 122,
   "id": "a6885db3",
   "metadata": {},
   "outputs": [],
   "source": [
    "query = [[\"Represent the nuclear reactor domain: \",\n",
    "          \"Quelle est l'influence de l'incident de mars 2002 ?\"]]"
   ]
  },
  {
   "cell_type": "code",
   "execution_count": 62,
   "id": "97cd2802",
   "metadata": {},
   "outputs": [],
   "source": [
    "query = [[\"Represent the nuclear reactor domain:\",\n",
    "          \"Comment sont conduites les études organisationnelles et humaines sur le terrain ?\"]]"
   ]
  },
  {
   "cell_type": "code",
   "execution_count": 164,
   "id": "6ee0c4e7",
   "metadata": {},
   "outputs": [],
   "source": [
    "query = [[\"Represent the nuclear reactor domain:\",\n",
    "          \"Quelles sont les caractéritiques de l'état d'une installation ?\"]]"
   ]
  },
  {
   "cell_type": "code",
   "execution_count": 165,
   "id": "77af0f82",
   "metadata": {},
   "outputs": [
    {
     "name": "stdout",
     "output_type": "stream",
     "text": [
      "[['Represent the nuclear reactor domain:', \"Quelles sont les caractéritiques de l'état d'une installation ?\"]]\n"
     ]
    }
   ],
   "source": [
    "print(query)\n"
   ]
  },
  {
   "cell_type": "code",
   "execution_count": 166,
   "id": "6acd03a2",
   "metadata": {
    "scrolled": true
   },
   "outputs": [],
   "source": [
    "start = time.time()\n",
    "query_embeddings = model.encode(query)\n",
    "end = time.time()"
   ]
  },
  {
   "cell_type": "code",
   "execution_count": 167,
   "id": "de9a7d0e",
   "metadata": {},
   "outputs": [
    {
     "name": "stdout",
     "output_type": "stream",
     "text": [
      "5.745929002761841\n"
     ]
    }
   ],
   "source": [
    "print(end-start)"
   ]
  },
  {
   "cell_type": "markdown",
   "id": "497c6a31",
   "metadata": {},
   "source": [
    "## Corpus"
   ]
  },
  {
   "cell_type": "code",
   "execution_count": 128,
   "id": "b1fe7e96",
   "metadata": {},
   "outputs": [],
   "source": [
    "corpus = doc"
   ]
  },
  {
   "cell_type": "code",
   "execution_count": 129,
   "id": "7a28d3ad",
   "metadata": {},
   "outputs": [],
   "source": [
    "start = time.time()\n",
    "corpus_embeddings = model.encode(corpus)\n",
    "end = time.time()"
   ]
  },
  {
   "cell_type": "markdown",
   "id": "24612661",
   "metadata": {},
   "source": [
    "**TIME FOR CORPUS EMBEDDING**"
   ]
  },
  {
   "cell_type": "code",
   "execution_count": 130,
   "id": "808a5917",
   "metadata": {},
   "outputs": [
    {
     "name": "stdout",
     "output_type": "stream",
     "text": [
      "76.59469866752625\n"
     ]
    }
   ],
   "source": [
    "print(end-start)"
   ]
  },
  {
   "cell_type": "code",
   "execution_count": 31,
   "id": "d21861ae",
   "metadata": {},
   "outputs": [
    {
     "data": {
      "text/plain": [
       "array([[ 0.02775722,  0.05267641,  0.04015062, ..., -0.05866615,\n",
       "         0.00846319,  0.04864185],\n",
       "       [ 0.02527369,  0.04208843,  0.03759762, ..., -0.04908524,\n",
       "         0.00619898,  0.06292736],\n",
       "       [ 0.03775888,  0.04834661,  0.02864701, ..., -0.04704093,\n",
       "         0.00470379,  0.06230151],\n",
       "       ...,\n",
       "       [-0.01687039,  0.03976665,  0.03239996, ..., -0.07296515,\n",
       "         0.0076263 ,  0.04420543],\n",
       "       [-0.01498506,  0.05285629,  0.04856495, ..., -0.05798703,\n",
       "        -0.01108014,  0.01968489],\n",
       "       [-0.00439278,  0.03293464,  0.06596583, ..., -0.05091678,\n",
       "         0.02726727,  0.06183447]], dtype=float32)"
      ]
     },
     "execution_count": 31,
     "metadata": {},
     "output_type": "execute_result"
    }
   ],
   "source": [
    "corpus_embeddings"
   ]
  },
  {
   "attachments": {
    "image.png": {
     "image/png": "[encoded data removed]"
    }
   },
   "cell_type": "markdown",
   "id": "933d0044",
   "metadata": {},
   "source": [
    "# Cosine Similarity\n",
    "*cosine_similarity* computes the L2-normalized dot product of vectors. That is, if \n",
    " and \n",
    " are row vectors, their cosine similarity \n",
    " is defined as:\n",
    "![image.png](attachment:image.png)\n",
    "This is called cosine similarity, because Euclidean (L2) normalization projects the vectors onto the unit sphere, and their dot product is then the cosine of the angle between the points denoted by the vectors.\n",
    "\n",
    "This kernel is a popular choice for computing the similarity of documents represented as tf-idf vectors."
   ]
  },
  {
   "cell_type": "code",
   "execution_count": 168,
   "id": "1804a083",
   "metadata": {},
   "outputs": [],
   "source": [
    "start = time.time()\n",
    "similarities = cosine_similarity(query_embeddings,corpus_embeddings)\n",
    "end = time.time()"
   ]
  },
  {
   "cell_type": "code",
   "execution_count": 169,
   "id": "58f36e6d",
   "metadata": {},
   "outputs": [
    {
     "name": "stdout",
     "output_type": "stream",
     "text": [
      "0.02609395980834961\n"
     ]
    }
   ],
   "source": [
    "print(end-start)"
   ]
  },
  {
   "cell_type": "code",
   "execution_count": 74,
   "id": "799747d7",
   "metadata": {},
   "outputs": [
    {
     "data": {
      "text/plain": [
       "array([[0.7956069 , 0.7733009 , 0.8368037 , 0.7844873 , 0.7979003 ,\n",
       "        0.8141267 , 0.78298306, 0.795355  , 0.768329  , 0.7626423 ,\n",
       "        0.78499234, 0.7550276 , 0.74981713, 0.7709104 , 0.7702655 ,\n",
       "        0.80745065, 0.7833276 , 0.80877495, 0.80755734, 0.77418613,\n",
       "        0.81433684, 0.81045306, 0.86120445, 0.8159894 , 0.8151046 ,\n",
       "        0.80410564, 0.773083  , 0.78561985, 0.75713   , 0.79542714,\n",
       "        0.7533687 , 0.7464546 , 0.7254692 , 0.7637211 , 0.76558983,\n",
       "        0.74105054, 0.74473196, 0.74000967, 0.72970796, 0.75152856,\n",
       "        0.712331  , 0.71633506, 0.7571912 , 0.7637705 , 0.7653213 ,\n",
       "        0.7410002 , 0.7473608 , 0.7778744 , 0.7157135 , 0.77793586]],\n",
       "      dtype=float32)"
      ]
     },
     "execution_count": 74,
     "metadata": {},
     "output_type": "execute_result"
    }
   ],
   "source": [
    "similarities"
   ]
  },
  {
   "cell_type": "markdown",
   "id": "9d990be3",
   "metadata": {},
   "source": [
    "# Select top-k vectors"
   ]
  },
  {
   "cell_type": "markdown",
   "id": "a3924ab1",
   "metadata": {},
   "source": [
    "### Top 5"
   ]
  },
  {
   "cell_type": "code",
   "execution_count": 170,
   "id": "d9b5707f",
   "metadata": {
    "scrolled": true
   },
   "outputs": [],
   "source": [
    "index_max = np.argsort(similarities[0])[::-1]"
   ]
  },
  {
   "cell_type": "code",
   "execution_count": 171,
   "id": "57c2c2bf",
   "metadata": {},
   "outputs": [
    {
     "data": {
      "text/plain": [
       "array([36, 33, 44,  3, 34])"
      ]
     },
     "execution_count": 171,
     "metadata": {},
     "output_type": "execute_result"
    }
   ],
   "source": [
    "index_max[:5]"
   ]
  },
  {
   "cell_type": "code",
   "execution_count": 172,
   "id": "a68fa8b6",
   "metadata": {},
   "outputs": [],
   "source": [
    "top_5 = similarities[0,index_max[:5]]"
   ]
  },
  {
   "cell_type": "code",
   "execution_count": 173,
   "id": "16a15313",
   "metadata": {},
   "outputs": [
    {
     "data": {
      "text/plain": [
       "array([0.85904086, 0.83705264, 0.82347536, 0.8147657 , 0.8145888 ],\n",
       "      dtype=float32)"
      ]
     },
     "execution_count": 173,
     "metadata": {},
     "output_type": "execute_result"
    }
   ],
   "source": [
    "top_5"
   ]
  },
  {
   "cell_type": "markdown",
   "id": "ca769375",
   "metadata": {},
   "source": [
    "### Min 5"
   ]
  },
  {
   "cell_type": "code",
   "execution_count": 142,
   "id": "ea021c40",
   "metadata": {
    "scrolled": true
   },
   "outputs": [],
   "source": [
    "index_min = np.argsort(similarities[0])"
   ]
  },
  {
   "cell_type": "code",
   "execution_count": 143,
   "id": "8b64b6e9",
   "metadata": {},
   "outputs": [
    {
     "data": {
      "text/plain": [
       "array([35, 48, 41, 40, 46])"
      ]
     },
     "execution_count": 143,
     "metadata": {},
     "output_type": "execute_result"
    }
   ],
   "source": [
    "index_min[:5]"
   ]
  },
  {
   "cell_type": "code",
   "execution_count": 144,
   "id": "c8803f54",
   "metadata": {},
   "outputs": [],
   "source": [
    "min_5 = similarities[0,index_min[:5]]"
   ]
  },
  {
   "cell_type": "code",
   "execution_count": 145,
   "id": "27d2806b",
   "metadata": {
    "scrolled": true
   },
   "outputs": [
    {
     "data": {
      "text/plain": [
       "array([0.6834934 , 0.68499565, 0.6982652 , 0.70805377, 0.71354616],\n",
       "      dtype=float32)"
      ]
     },
     "execution_count": 145,
     "metadata": {},
     "output_type": "execute_result"
    }
   ],
   "source": [
    "min_5"
   ]
  },
  {
   "cell_type": "markdown",
   "id": "ca41bb77",
   "metadata": {},
   "source": [
    "# Cosine Distance\n",
    "Cosine distance is defined as : 1 - (cosine similarity)"
   ]
  },
  {
   "cell_type": "code",
   "execution_count": null,
   "id": "cb1bb105",
   "metadata": {},
   "outputs": [],
   "source": []
  },
  {
   "cell_type": "markdown",
   "id": "5fdfaa4f",
   "metadata": {},
   "source": [
    "# MMR Score\n",
    "MMR score = λ * relevance score - (1 - λ) * diversity score"
   ]
  },
  {
   "cell_type": "code",
   "execution_count": null,
   "id": "dde66bd0",
   "metadata": {},
   "outputs": [],
   "source": []
  },
  {
   "cell_type": "markdown",
   "id": "a0a929dc",
   "metadata": {},
   "source": [
    "# Plot"
   ]
  },
  {
   "cell_type": "code",
   "execution_count": 174,
   "id": "097ffb36",
   "metadata": {
    "scrolled": true
   },
   "outputs": [
    {
     "data": {
      "image/png": "[encoded data removed]",
      "text/plain": [
       "<Figure size 640x480 with 1 Axes>"
      ]
     },
     "metadata": {},
     "output_type": "display_data"
    }
   ],
   "source": [
    "import numpy as np\n",
    "import matplotlib.pyplot as plt\n",
    "import matplotlib.ticker as ticker\n",
    "\n",
    "y = similarities[0]\n",
    "\n",
    "x = range(len(y))\n",
    "\n",
    "plt.scatter( x, y, marker='.')\n",
    "\n",
    "def annot_max(x,y, ax=None):\n",
    "    xmax = x[np.argmax(y)]\n",
    "    ymax = y.max()\n",
    "    text= \"x={:}, y={:.3f}\".format(xmax, ymax)\n",
    "    if not ax:\n",
    "        ax=plt.gca()\n",
    "    bbox_props = dict(boxstyle=\"square,pad=0.3\", fc=\"w\", ec=\"k\", lw=0.72)\n",
    "    arrowprops=dict(arrowstyle=\"->\",connectionstyle=\"angle,angleA=0,angleB=60\")\n",
    "    kw = dict(xycoords='data',textcoords=\"axes fraction\",\n",
    "              arrowprops=arrowprops, bbox=bbox_props, ha=\"right\", va=\"top\")\n",
    "    ax.annotate(text, xy=(xmax, ymax), xytext=(0.94,0.96), **kw)\n",
    "    \n",
    "annot_max(x,y)\n",
    "\n",
    "\n",
    "plt.xlabel('Index')\n",
    "plt.ylabel('Value')\n",
    "plt.title('Chunks: -{}- \\n Query: -{}-'.format(domain, query))\n",
    "plt.show()"
   ]
  },
  {
   "cell_type": "code",
   "execution_count": null,
   "id": "279aa5f6",
   "metadata": {},
   "outputs": [],
   "source": []
  },
  {
   "cell_type": "markdown",
   "id": "f4235fd7",
   "metadata": {},
   "source": [
    "## TOP 5 Chunks Comparison"
   ]
  },
  {
   "cell_type": "code",
   "execution_count": null,
   "id": "ebd1743c",
   "metadata": {
    "scrolled": false
   },
   "outputs": [],
   "source": [
    "for chunk in index_max[:5]:\n",
    "    print(query[0][1])\n",
    "    print(\"CHUNK NUMBER \", chunk)\n",
    "    print(\"------------------------\")\n",
    "    print(doc[chunk])\n",
    "    print(\"---------------------------------------------------------------------\")"
   ]
  },
  {
   "cell_type": "code",
   "execution_count": null,
   "id": "0dec5611",
   "metadata": {},
   "outputs": [],
   "source": []
  },
  {
   "cell_type": "code",
   "execution_count": 70,
   "id": "0f390da2",
   "metadata": {},
   "outputs": [],
   "source": [
    "doc_id = np.argmax(similarities)"
   ]
  },
  {
   "cell_type": "code",
   "execution_count": 154,
   "id": "84b49b0e",
   "metadata": {},
   "outputs": [
    {
     "data": {
      "text/plain": [
       "39"
      ]
     },
     "execution_count": 154,
     "metadata": {},
     "output_type": "execute_result"
    }
   ],
   "source": [
    "len(doc[11][0])"
   ]
  },
  {
   "cell_type": "code",
   "execution_count": null,
   "id": "c4306774",
   "metadata": {},
   "outputs": [],
   "source": []
  }
 ],
 "metadata": {
  "kernelspec": {
   "display_name": "Python 3 (ipykernel)",
   "language": "python",
   "name": "python3"
  },
  "language_info": {
   "codemirror_mode": {
    "name": "ipython",
    "version": 3
   },
   "file_extension": ".py",
   "mimetype": "text/x-python",
   "name": "python",
   "nbconvert_exporter": "python",
   "pygments_lexer": "ipython3",
   "version": "3.9.17"
  }
 },
 "nbformat": 4,
 "nbformat_minor": 5
}
