{
 "cells": [
  {
   "cell_type": "code",
   "execution_count": 1,
   "id": "21037987",
   "metadata": {},
   "outputs": [
    {
     "name": "stdout",
     "output_type": "stream",
     "text": [
      "Requirement already satisfied: InstructorEmbedding in /Users/martin/opt/anaconda3/envs/embedding/lib/python3.9/site-packages (1.0.1)\r\n"
     ]
    }
   ],
   "source": [
    "!pip install InstructorEmbedding"
   ]
  },
  {
   "cell_type": "markdown",
   "id": "ea7d312f",
   "metadata": {},
   "source": [
    "## Import"
   ]
  },
  {
   "cell_type": "code",
   "execution_count": 113,
   "id": "54d361da",
   "metadata": {
    "ExecuteTime": {
     "end_time": "2023-07-13T13:16:23.147662Z",
     "start_time": "2023-07-13T13:16:20.392749Z"
    }
   },
   "outputs": [],
   "source": [
    "from InstructorEmbedding import INSTRUCTOR\n",
    "from langchain.document_loaders import PyPDFLoader\n",
    "from sklearn.metrics.pairwise import cosine_similarity\n",
    "import time"
   ]
  },
  {
   "cell_type": "markdown",
   "id": "0f845c99",
   "metadata": {},
   "source": [
    "## Path"
   ]
  },
  {
   "cell_type": "code",
   "execution_count": 114,
   "id": "9056d1dc",
   "metadata": {},
   "outputs": [],
   "source": [
    "path_chap4 = \"\"\n",
    "path_chap33 = \"\""
   ]
  },
  {
   "cell_type": "markdown",
   "id": "bee092c6",
   "metadata": {},
   "source": [
    "## Loading Documents"
   ]
  },
  {
   "cell_type": "code",
   "execution_count": 115,
   "id": "8c3f3463",
   "metadata": {},
   "outputs": [],
   "source": [
    "paths = [path_chap4, path_chap33]\n",
    "loaders = []\n",
    "for path in paths:\n",
    "  loaders.append(PyPDFLoader(path))"
   ]
  },
  {
   "cell_type": "code",
   "execution_count": 116,
   "id": "31993357",
   "metadata": {},
   "outputs": [],
   "source": [
    "document = []\n",
    "for loader in loaders:\n",
    "  document.extend(loader.load())"
   ]
  },
  {
   "cell_type": "code",
   "execution_count": 117,
   "id": "bdc7190a",
   "metadata": {
    "scrolled": true
   },
   "outputs": [
    {
     "data": {
      "text/plain": [
       "26"
      ]
     },
     "execution_count": 117,
     "metadata": {},
     "output_type": "execute_result"
    }
   ],
   "source": [
    "len(document)"
   ]
  },
  {
   "cell_type": "code",
   "execution_count": 118,
   "id": "3afff81e",
   "metadata": {},
   "outputs": [
    {
     "data": {
      "text/plain": [
       "str"
      ]
     },
     "execution_count": 118,
     "metadata": {},
     "output_type": "execute_result"
    }
   ],
   "source": [
    "type(document[1].page_content)"
   ]
  },
  {
   "cell_type": "code",
   "execution_count": 33,
   "id": "580af538",
   "metadata": {},
   "outputs": [
    {
     "data": {
      "text/plain": [
       "'956 Éléments de sûreté nucléaire\\xa0–\\xa0Les réacteurs à eau sous pression\\nFigure 33.2.  Schéma cyclique dans l’approche par état. IRSN (source EDF).\\n33.6. L’approche par états pour le réacteur EPR\\nPour le réacteur EPR\\xa0Flamanville\\xa03, l’approche par états a été retenue dès la concep -\\ntion des procédures de conduite incidentelle et accidentelle. Le guidage des opérateurs \\n(« orientation et stabilisation  », voir plus haut) est toutefois automatisé.'"
      ]
     },
     "execution_count": 33,
     "metadata": {},
     "output_type": "execute_result"
    }
   ],
   "source": [
    "document[25].page_content"
   ]
  },
  {
   "cell_type": "code",
   "execution_count": 119,
   "id": "4444b391",
   "metadata": {},
   "outputs": [],
   "source": [
    "doc = []\n",
    "domain = \"Retrieving the nuclear reactor domain: \"\n",
    "for i in range(len(document)):\n",
    "    firstpart, secondpart = document[i].page_content[:len(document[i].page_content)//2], document[i].page_content[len(document[i].page_content)//2:]\n",
    "    if (len(firstpart) or len(secondpart) != 0):\n",
    "        doc.append([domain, firstpart])\n",
    "        doc.append([domain, secondpart])"
   ]
  },
  {
   "cell_type": "code",
   "execution_count": 120,
   "id": "3e32dd69",
   "metadata": {
    "scrolled": true
   },
   "outputs": [
    {
     "data": {
      "text/plain": [
       "[['Retrieving the nuclear reactor domain: ',\n",
       "  'Chapitre 4\\nLes réacteurs nucléaires  :   \\ndes systèmes sociotechniques \\ncomplexes  – \\nL ’importance des facteurs \\norganisationnels et humains\\nAvant de développer dans le présent ouvrage de manière plus approfondie les \\nsujets de sûreté, plus spécifiquement pour les réacteurs à eau sous pression du parc \\nélectronucléaire français, il apparaît nécessaire dès à présent de souligner l’impor-tance particulière que revêtent non seulement les aspects techniques mais aussi les facteurs organisationnels et humains  (FOH) dans la maîtrise des risques liés à de \\ntelles installations.\\nL’analyse des incidents e'],\n",
       " ['Retrieving the nuclear reactor domain: ',\n",
       "  't des accidents (dans tous les domaines d’activité, pas \\nseulement celui de l’industrie nucléaire) montre qu’ils sont le plus souvent le résultat de combinaisons de défaillances ou d’insuffisances concernant les matériels, les orga -\\nnisations et les hommes.\\nLa considération des seuls aspects techniques de la conception et de l’exploitation \\ndes installations nucléaires n’est pas suffisante  ; l’homme peut en effet contribuer à \\nl’initiation ou au développement d’incidents (du fait même que c’est lui qui conçoit, construit et exploite les installations nucléaires), mais il a aussi une contribution '],\n",
       " ['Retrieving the nuclear reactor domain: ',\n",
       "  '110 Éléments de sûreté nucléaire\\xa0–\\xa0Les réacteurs à eau sous pression\\n positive (par exemple en «  récupérant  » correctement des situations anormales surve -\\nnant au cours de l’exploitation des installations)\\xa0–\\xa0cela suppose que les organisations \\net les modalités encadrant cette exploitation soient favorables.\\nLa notion de «  facteurs organisationnels et humains  » se réfère aux facteurs exer -\\nçant une influence sur l’activité des hommes et leur contribution au fonctionnement de systèmes sociotechniques\\n 163, tels que l’organisation, les compétences, les moyens \\ntechniques, les procédures, le fonctionnement des collectifs de travail ou l’environne -\\nment physique de travail. L’étude de ces facteurs constitue une discipline relativement récente, qui s’est développée avec l’évolution technologique durant le XX\\ne siècle  ; elle \\na pris une importance plus particulière dans les organisations chargées d’installations à risques, étant donné leur rôle déterminant dans la prévention et l’occurrence de nombreux accidents industriels. Une hypothèse forte qui sous-tend l’attention et les moyens accordés à l’analyse des facteurs organisationnels et humains, confortée par le retour d’expérience, est qu’il est possible d’identifier des conditions préalables ou des dérives d’un système sociotechnique pouvant conduire à l’occurrence d’un événement indésirable et de les prévenir au moyen de démarches d’ingénierie FOH adaptées. Il s’agit donc, par une meilleure compréhension de l’activité humaine, de déterminer et de mettre en place des conditions favorables à une contribution positive des hommes et des organisations au fonctionnement des installations\\n 164 : cela commence dès le \\nstade du choix des opti'],\n",
       " ['Retrieving the nuclear reactor domain: ',\n",
       "  'ons de conception des installations et se poursuit, bien entendu, lors des études de conception puis de définition des règles et procédures d’exploitation, enfin tout au long de l’exploitation des installations et lors de leur démantèlement.\\n4.1.  Les débuts des FOH dans le domaine des réacteurs \\nélectronucléaires, les enseignements tirés  de l’accident de la centrale nucléaire  de Three\\xa0Mile Island\\nÀ l’époque du démarrage des premières tranches du parc électronucléaire français 165, \\ndans les années 1970, l’accent était mis sur la fiabilité technique des installations, prin -\\ncipalement liée à la qualité de leur conception, au maintien en exploitation de la confor-mité des équipements, aux exigences qui leur étaient applicables et à l’existence de procédures d’exploitation préétablies, aussi bien à l’égard des situations normales d’ex -\\nploitation qu’à l’égard d’un certain nombre de situations anormales considérées comme \\n163.  Il s’agit de systèmes qui comportent de nombreuses composantes techniques, humaines, organi -\\nsationnelles, sociales qui sont en interaction.\\n164.  Pour en savoir plus, le lecteur pourra consulter l’ouvrage de F.\\xa0 Daniellou, M.\\xa0Simard et I.\\xa0  Boissières \\nintitulé «  Facteurs humains et organisationnels de la sécurité industrielle  : un état de l’art  », \\nn°\\xa02010-02 des Cahiers de la sécurité industrielle, Institut pour une culture de sécurité indus -\\ntrielle, Toulouse, France (ISSN 2100-3874). Disponible à l’URL https://www.foncsi.org/fr/publica-\\ntions/cahiers-securite-industrielle/facteurs-humains-et-organisationnels/CSI-FHOS-etat-art.pdf\\n165.  Divers éléments du présent chapitre sont issus du «  Mémento Sûreté nucléaire en exploita -\\ntion »\\xa0–\\xa0EDF, édition 2016.'],\n",
       " ['Retrieving the nuclear reactor domain: ',\n",
       "  \"Les réacteurs nucléaires  : des systèmes sociotechniques complexes – L'importance des FOH  111\\nplausibles  ; en outre, des actions de conduite étaient automatisées, notamment pour  \\nréduire les possibilités d’erreurs humaines. Cependant, les cumuls de défaillances maté -\\nrielles et humaines n’étaient pas, par exemple, examinés de façon systématique.\\nL’importance attachée aux facteurs organisationnels et humains s’est progressive -\\nment accrue, d’abord par l’analyse d’événements impliquant de tels facteurs et dont il \\nfallait tirer les enseignements pour qu’ils ne se reproduisent pas, puis principalement après la survenue, au mois de mars 1979, de l’ accident du réacteur n°\\xa02 de la centrale \\nnucléaire de Three\\xa0Mile\\xa0Island  (TMI) aux États-Unis. L’analyse de cet accident sous l’angle \\ndes FOH a principalement conduit à des évolutions et à des améliorations portant sur les interfaces homme-machine, les organisations (notamment celle de l’équipe de conduite en salle de commande, avec une redondance de la surveillance de l’installation par un ingénieur de sûreté [IS]), le partage du retour d’expérience et la conduite en situations \\nincidentelles et accidentelles (passage de l’approche «  événementielle  » à l’approche \\n« par états  »), sujets qui sont développés dans les chapitres 32  et 33.\\n4.2.  L’accident de la centrale nucléaire de Tchernobyl,  \\nla notion de «  culture de sûreté  »\\nSi l’accident de TMI  a soulevé des questions concernant les aspects ergonomiques \\n(défauts d’interface homme-machine) et cognitifs (représentation erronée de l’état de l’installation) des postes de travail, celui de la centrale nucléaire de Tchernobyl, qui fait \\nl’objet du chapitre 34, a soulevé des questions d’une autre nature, concernant les aspects \\ncolle\"],\n",
       " ['Retrieving the nuclear reactor domain: ',\n",
       "  'ctifs et organisationnels, le déroulement de l’accident ayant comporté des actions intentionnelles de non-respect de consignes et d’inhibition de protections pour faire \\n« coûte que coûte  » un essai particulier programmé (essai de sûreté à faible puissance).  \\nL’analyse de l’accident a notamment mis en évidence des insuffisances concernant le management, le contrôle des activités, l’application des règles et des procédures, la prio -\\nrité qui doit être accordée à la sûreté et la formation des opérateurs. Ainsi, cet accident a amené à considérer le rôle de l’homme dans la maîtrise des risques, non plus seulement sous un angle comportementaliste centré sur la réduction des erreurs individuelles, mais dans une perspective plus large tenant compte des caractéristiques et des dynamiques d’un système sociotechnique complexe dans sa globalité.\\nConcernant les facteurs organisationnels, les travaux\\n 166 relatifs aux High Reliability \\nOrganizations 167 (HRO), menés depuis les années 1980, ont fourni des éclairages utiles \\nau plan méthodologique pour l’analyse de tels facteurs dans la conception et l’exploi -\\ntation des centrales nucléaires. Partant de constats faits sur des organisations chargées \\nd’installations «  à risques  » qui fonctionnaient de manière sûre et fiable, ces travaux \\nont en particulier fait ressortir des clefs de succès telles que  :\\n166.  Ces travaux ont été menés à l’ université de Berkeley. Le lecteur pourra aussi consulter l’ouvrage \\nintitulé «  Organiser la fiabilité  », de M.\\xa0 Bourrier, Éditions L’Harmattan , 2001, ainsi que celui inti -\\ntulé «  Managing the Unexpected, Resilient Performance in an Age of Uncertainty  », de K.\\xa0 Weick \\net K.\\xa0M.\\xa0Sutcliffe, Jossey Bass editions, 2007.\\n167.  Organisation de haute fiabilité.'],\n",
       " ['Retrieving the nuclear reactor domain: ',\n",
       "  '112 Éléments de sûreté nucléaire\\xa0–\\xa0Les réacteurs à eau sous pression\\n –un accord de l’ensemble des acteurs de l’organisation sur les buts recherchés, \\nnotamment lors des arbitrages,\\n –la mise en place de redondances (des contrôles, des circuits de décision, des canaux de communication),\\n –un équilibre entre centralisation et décentralisation,\\n –des activités permanentes de recyclage et d’entraînement,\\n –une attention portée au risque d’échec dans les activités, et pas seulement au succès,\\n –une attention des managers aux activités quotidiennes, aux aléas,\\n –une délégation des prises de décision aux personnes les plus compétentes ou proches du terrain,\\n –une méfiance envers la simplification des interprétations dans des systèmes complexes,\\n –la mise en place de ressources et de processus de nature à favoriser l’adaptation \\n(« engagement dans la résilience  »), en complément des démarches d’anticipa -\\ntion des risques.\\nParallèlement, des études portant sur les causes profondes d’accidents, menées \\npar des chercheurs anglo-saxons et français (notamment d’Électricité de France et de l’IRSN), ont permis de recenser\\n 168 des facteurs organisationnels d’échec, génériques et \\nrécurrents, tels que  :\\n –les pressions de production,\\n –la complexité organisationnelle,\\n –les échecs des analyses de risques et du reto'],\n",
       " ['Retrieving the nuclear reactor domain: ',\n",
       "  'ur d’expérience,\\n –les défauts de gestion des effectifs et des compétences,\\n –un défaut d’exigences d’autorités de contrôle…\\nLes leçons tirées de l’ accident de Tchernobyl  ont notamment conduit au dévelop -\\npement de la notion de «  culture de sûreté  », qui a été très largement mise en avant \\ncomme une réponse à cet accident. C’est du reste en 1991, cinq années après l’ accident \\nde Tchernobyl, que fut publié (sous l’égide de l’ AIEA) le rapport INSAG-4 qui explicite \\ncette notion (voir le focus ci-après)\\xa0–\\xa0dont il faut souligner qu’elle ne concerne pas que les exploitants d’installations nucléaires, mais aussi les concepteurs et les fabricants, sans oublier les organismes de sûreté (voire le gouvernement).\\n168.  Voir à ce sujet les articles des Techniques de l’ingénieur  intitulés «  Industries à risques  : conduire \\nun diagnostic organisationnel par la recherche de facteurs pathogènes  », J-M.\\xa0 Rousseau et \\nA.\\xa0Largier, AG 1\\xa0576-1, 2008, et «  Systèmes complexes à risques\\xa0–\\xa0Analyse organisationnelle de \\nla sécurité  », M.\\xa0Llory et Y.\\xa0Dien, AG\\xa01\\xa0577-1, 2010. On peut citer aussi l’article «  Pour une culture \\ndes accidents au service de la sécurité industrielle  », de N.\\xa0 Dechy, Y.\\xa0Dien et M.\\xa0Llory, 17e congrès \\n« λµ », de Maîtrise des risques et de sûreté de fonctionnement , octobre 2010, La Rochelle.'],\n",
       " ['Retrieving the nuclear reactor domain: ',\n",
       "  \"Les réacteurs nucléaires  : des systèmes sociotechniques complexes – L'importance des FOH  113\\n#FOCUS\\nLa notion de culture de sûreté\\nAinsi que cela a été indiqué plus haut, la notion de culture de sûreté est née \\ndes réflexions qui ont été engagées après l’accident survenu le 26 avril 1986 \\nà la centrale nucléaire de Tchernobyl . Les réflexions «  post-Tchernobyl  » mili -\\ntèrent pour une vision plus internationale de la sûreté nucléaire et se concréti -\\nsèrent notamment par différents rapports de l’ INSAG , groupe alors récemment \\ncréé auprès de l’ AIEA, parmi lesquels on peut citer celui de septembre \\n1986 intitulé « Summary Report on the Post-Accident Review Meeting on \\nthe  Chernobyl  Accident  » (INSAG-1 169) et dans lequel apparaît la notion de \\nculture de sûreté, qui sera approfondie en 1991 dans le rapport intitulé «  Safety \\nCulture  »  (INSAG-4).  La culture de sûreté est définie dans ce dernier rapport \\ncomme «  l’ensemble des caractéristiques et des attitudes des organisations et \\ndes personnes qui font que […] les aspects de sûreté bénéficient de l’atten -\\ntion en rapport avec leur importance  ». La culture de sûreté suppose notam -\\nment, dans une organisation, que soient favorisées les attitudes interrogatives, prudentes et rigoureuses et la communication entre les personnes. Elle suppose un engagement fort des responsables hiérarchique\"],\n",
       " ['Retrieving the nuclear reactor domain: ',\n",
       "  's et des dirigeants des installations.\\nTrois autres rapports de l’ INSAG\\n sont à citer  :\\n –le rapport intitulé «  Management of Operational Safety in Nuclear Power \\nPlants  » ( INSAG-13 ), diffusé en 1999. Ce rapport aborde les aspects du \\n« management de la sûreté  » qui ont une importance dans la promotion de \\nla culture de sûreté, accompagnés de préconisations et de bonnes pratiques. Des préconisations sont en particulier faites pour ce qui concerne le maintien d’un management approprié de la sûreté lors de changements d’organisation, la façon de surveiller les performances en matière de sûreté et la détection d’une baisse de performances avant qu’elle n’ait un impact significatif sur \\nla sûreté  ;\\n –le rapport intitulé «  Key Practical Issues in Strengthening Safety Culture  » \\n(INSAG-15 ), diffusé en 2002. Ce rapport, qui présente en particulier un \\ncertain nombre de questions qui peuvent être posées dans le cadre d’un auto -\\ndiagnostic de la culture de sûreté au sein d’une organisation, aborde des sujets-clés tels que l’importance de la façon de communiquer et de se faire comprendre en matière de sûreté, notamment pour une bonne compréhension des procédures par les utilisateurs eux-mêmes, la culture du compte rendu (reporting) et l’attention qui doit être portée aux incidents évités de justesse \\n169.  Mis à jour en 1992 par le rapport INSAG-7.'],\n",
       " ['Retrieving the nuclear reactor domain: ',\n",
       "  '114 Éléments de sûreté nucléaire\\xa0–\\xa0Les réacteurs à eau sous pression\\nainsi qu’aux dérives possibles («  le risque toléré devient validé  » 170), l’aptitude \\nd’une organisation à se remettre en question à tous les niveaux («  or ganisation \\napprenante  »)  ;\\n –le rapport intitulé «  Managing Change in the Nuclear Industry  : the Effects on \\nSafety  » ( INSAG-18), diffusé en 2003. Ce rapport aborde un certain nombre \\nde sujets concernant les conséquences d’évolutions du contexte nucléaire \\nsur les organisations et les hommes (recherche d’une compétitivité accrue, accroissement des exigences de sûreté…), qui peuvent affecter la sûreté si elles ne sont pas suffisamment bien intégrées et gérées.\\nDans un rapport plus récent\\n 171, l’AIEA  définit un cadre et des exigences en \\ntermes de management de la sûreté et de système intégré de management, dans \\nune approche systémique qui prend en compte les interactions entre les facteurs \\ntechniques, organisationnels et humains, dans l’objectif de favoriser une «  culture \\nde sûreté solide  » .\\nLa notion de culture de sûreté a également été largement utilisée dans d’autres \\ndomaines d’activités à risques tels que l’aéronautique, les industries chimiques et pétrolières, la santé. Mais si cette notion paraît simple à comprendre, elle ne saurait constituer une réponse suffisante à l’ensemble des questions concernant la contri -\\nbution des hommes et des organisations à la sûreté. Des questions restent posées, \\npar exemple sur les conditions, les modalités et les limites d’une «  ingénierie  » de \\nla culture de sûreté. Si la mise en œuvre de dispositions d’organisation et de mana -\\ngem'],\n",
       " ['Retrieving the nuclear reactor domain: ',\n",
       "  'ent peut contribuer au développement d’une culture favorable à la sûreté, la manière dont ces dispositions combinent leurs effets pour exercer une influence positive ou négative sur la culture de sûreté reste encore très largement méconnue.\\nAu mois de mars 2002, un incident (classé au niveau 3 de l’échelle INES), parfois \\nqualifié de presqu’accident, est survenu à la centrale nucléaire de Davis-Besse située \\ndans l’État de l’Ohio aux États-Unis. Cette centrale est équipée d’un réacteur à eau sous pression\\n 172 de 900\\xa0 MWe. L’incident a eu une influence dans les réflexions et \\nles préoccupations en matière de FOH au sein des industriels de l’énergie nucléaire, notamment Électricité de France\\n 173. Cet événement, qui s’est traduit par une perte \\n170.  Voir l’ouvrage de la sociologue américaine Diane Vaughan concernant l’accident de la navette \\nChallenger, publié en 1996  : « The Challenger Launch Decision, Risky Technology, Culture and \\nDeviance at NASA  ». Il y est montré comment ce qui peut apparaître rétrospectivement comme \\nune série d’erreurs clairement identifiables a été en réalité une succession de décisions et d’in -\\nterprétations parfaitement compréhensibles dans le contexte dans lequel elles ont été élaborées, mais qui constituaient des micro-écarts aux limites de conception et conduisaient insensible -\\nment à une accoutumance aux écarts (normalization of deviance).\\n171.\\n  « Leadership and Management for Safety  », Safety Standard Series No. GSR Part 2, publié par \\nl’AIEA en 2016.\\n172.  Réacteur du constructeur Babcock & Wilcox.\\n173.  Voir le «  Mémento sûreté nucléaire en exploitation  », EDF, édition 2016.'],\n",
       " ['Retrieving the nuclear reactor domain: ',\n",
       "  \"Les réacteurs nucléaires  : des systèmes sociotechniques complexes – L'importance des FOH  115\\n d’étanchéité du circuit primaire au niveau du couvercle de la cuve du réacteur, est \\ndécrit dans la suite du présent ouvrage ( paragraphe 27.2.2.9). Les analyses ont conduit \\nà considérer que cet incident était révélateur d’une dérive profonde dans la culture de \\nsûreté de l’exploitant et un défaut de contrôle de la part des autorités. En particulier, \\nont été mis en avant  :\\n –l’absence de prise en compte de signes précurseurs, pourtant détectés dès 1996, notamment des traces de bore sur certains matériels,\\n –des analyses d’événements insuffisamment développées, prenant peu en compte le retour d’expérience international,\\n –un désengagement de la Direction de la centrale dans le management de la sûreté avec des enjeux de production prédominants,\\n –un contrôle insuffisant des autorités.\\nSur certains aspects, ce presqu’accident a pu être rapproché des accidents des \\nnavettes américaines Challenger et Columbia, dont les analyses avaient aussi mis en évidence un défaut de prise en compte de signes précurseurs\\n 174.\\nChez Électricité de France, l’événement survenu à la centrale nucléaire de Davis-\\nBesse a conduit à différentes dispositions 175 parmi lesquelles  :\\n –l’élaboration de guides à la prise de décision afin de prendre en compte de façon adéquate les exigences de sûreté dans les objectifs de production électrique,\\n –la mise en œuvre d’un «  manageme\"],\n",
       " ['Retrieving the nuclear reactor domain: ',\n",
       "  'nt de la sûreté  » cohérent avec les pratiques \\ninternationales, à la lumière notamment des rapports INSAG-13, l’INSAG-15 et \\nl’INSAG-18 présentés dans le focus précédent,\\n –la mise en œuvre d’une démarche de retour d’expérience renforçant la prise en compte de signes précurseurs, du retour d’expérience international et la recherche de causes profondes des événements qui surviennent.\\nComme l’a rappelé le presqu’accident de la centrale nucléaire de Davis-Besse, la \\nculture de sûreté doit régulièrement se concrétiser lors de décisions à enjeux pour lesquelles une priorité doit être accordée à la sûreté. Confronté au renouvellement important de son personnel, Électricité de France déploie depuis quelques années \\nune démarche visant à renforcer la culture de sûreté dans ce contexte. Un guide a été diffusé aux CNPE en vue de partager une représentation commune de la culture de sûreté au\\xa0 sein du personnel. Électricité de France  déploie en ce sens des actions \\nde formation, de communication quotidienne à travers divers médias et d’auto-  \\npositionnement dans les unités opérationnelles, afin que chacun prenne du recul sur ses propres pratiques.\\n174.  Voir l’ ouvrage de Diane\\xa0Vaughan cité plus haut, ainsi que le rapport du département de l’énergie \\naméricain intitulé «  Action-Plan on Lessons Learned from the Columbia Space Shuttle Accident \\nand Davis-Besse Reactor Pressure-Vessel Head Corrosion Event  », U.S.DOE, 2005.\\n175.  Mémento EDF cité plus haut.'],\n",
       " ['Retrieving the nuclear reactor domain: ',\n",
       "  '116 Éléments de sûreté nucléaire\\xa0–\\xa0Les réacteurs à eau sous pression\\nDe plus, il convient que l’exploitant prenne des dispositions pour que la culture de \\nsûreté s’intègre aux pratiques des entreprises sous-traitantes, étant donné le volume \\nimportant des opérations de maintenance sous-traitées (sujet qui est abordé au chapitre\\xa025).\\n4.3.  L’accident de la centrale nucléaire  \\nde Fukushima Daiichi, la dimension sociétale,  \\nla notion de «  résilience  » des organisations\\nPlus récemment, l’accident survenu en 2011 à la centrale nucléaire de Fukushima \\nDaiichi a mis en lumière l’importance de la dimension sociétale dans la gouvernance des risques en général, aspect mis en avant par la commission d’enquête commanditée par la Diète japonaise après l’accident.\\nÀ la suite de cet accident, des études et des recherches ont été engagées\\n 176 sur \\nla gouvernance des risques nucléaires et la gestion de crise, abordées sous l’angle non seulement des facteurs organisationnels mais aussi des facteurs culturels et socio-historiques.\\nCertains enseignements de l’accident de la centrale nucléaire de Fukushima Daiichi  \\net de sa gestion confortent aussi une évolution de la perception du rôle des hommes et des organisations dans la maîtrise des risques, qui en fait a progressivement émergé depuis les années 1990. Cette évolution est dév'],\n",
       " ['Retrieving the nuclear reactor domain: ',\n",
       "  'eloppée ci-après.\\n4.4.  Évolution de la perception du rôle des hommes  \\ndans l’atteinte d’un haut niveau de fiabilité  de systèmes sociotechniques complexes\\nAprès plus de trente années d’expérience dans la prise en compte des FOH dans \\nla sûreté nucléaire, les connaissances acquises montrent que la réalité de l’exploita -\\ntion est loin d’être simple et que les hommes jouent un rôle déterminant dans le bon \\n fonctionnement des installations. Par leurs capacités et leurs compétences, ils sont à \\nmême de faire face et de s’adapter à la variété des situations qu’ils rencontrent au \\nquotidien dans leur travail  : matériel indisponible, pièces non conformes, description \\nincomplète de ce qui doit être réalisé et du comment le faire, tels qu’indiqués dans les procédures, les consignes ou les modes opératoires, variabilité des conditions de réali -\\nsation, variété des niveaux d’expertise des acteurs…\\n176.  Voir l’ouvrage «  État des recherches dans le domaine de la sûreté des réacteurs à eau sous pres -\\nsion », J.\\xa0Couturier & M.\\xa0Schwarz, Collection sciences et techniques , IRSN/EDP Sciences, 2017, \\nchapitre\\xa011. C’est dans ce domaine, qui relève des sciences humaines et sociales, qu’en 2012 l’IRSN et d’autres partenaires ont décidé d’entreprendre de nouvelles études, dans le cadre notamment du projet AGORAS financé par l’ANR.'],\n",
       " ['Retrieving the nuclear reactor domain: ',\n",
       "  \"Les réacteurs nucléaires  : des systèmes sociotechniques complexes – L'importance des FOH  117\\nCes adaptations concernent des actions que les hommes peuvent opérer hors de \\nce qui a pu être prévu, pour assurer un fonctionnement sûr d’une installation  ; encore \\nfaut-il créer les conditions leur permettant de faire face et d’effectuer les ajustements \\nnécessaires. L’accident survenu à la centrale nucléaire de Fukushima Daiichi  a mis en \\névidence les capacités d’adaptation et d’invention que les exploitants de la centrale ont pu mettre en œuvre dans des conditions d’intervention très difficiles pour faire face à une situation extrême à laquelle ils n’étaient pas préparés.\\nSe posent donc les questions suivantes  : est-ce que les conditions sont réunies  \\npour que les acteurs puissent mener leurs activités le mieux possible et mettre en œuvre leurs compétences et capacités, y compris détecter des dérives du système \\net récupérer des situations dégradées, voire critiques  ? Les individus et les «  collec -\\ntifs de travail  » sont-ils à même de pouvoir faire face à des situations non prévues  \\navec les moyens qui sont à leur disposition  ? Le management prend-il des arbi -\\ntrages suffisamment favorables à la maîtrise des risques dans des situations non \\nprévues  ?\\nLa prise en compte des FOH doit ainsi avoir un double objectif pour l’exploitant  :\\n –favoriser la capacité des personnels à détecter les anomalies techniques, à gérer les aléas et à réduire autant que possible les possibilités d’actions humaines \\ninappropriées  ;\\n –favoriser la capacité des hommes à s’adapter à de nouveaux problèmes et à faire face à des situations non prévues\\n 177, pour que le collectif soit en mesure de \\nmaîtriser la situation.\\nLa prise e\"],\n",
       " ['Retrieving the nuclear reactor domain: ',\n",
       "  'n compte des FOH doit donc conduire 178 à déterminer et évaluer les \\nconditions permettant l’atteinte des deux objectifs précités, au travers des  dimensions \\n techniques, humaines et organisationnelles du système sociotechnique dans son \\nensemble, ainsi que l’interdépendance entre ces trois dimensions.\\nAu début des années 1980, pour la conception des réacteurs du palier\\xa0 N4, \\n Électricité de France fait le choix de mettre en place des consignes informatisées \\n177.  Sur ce sujet, le lecteur pourra consulter l’ouvrage «  Comprendre les facteurs humains et orga-\\nnisationnels – Sûreté nucléaire et organisations à risques  », Benoît Bernard, EDP Sciences, \\n2014, ainsi que le rapport du Comité d’orientation sur les facteurs sociaux, organisationnels \\net humains ( COFSOH) intitulé « Développer la sécurité\\xa0–\\xa0Synthèse des travaux du groupe de \\ntravail D  », septembre 2019 (disponible sur le site internet de l’ASN). On y retrouve cette \\nmême dualité entre anticipation et «  résilience  » dans la distinction entre sûreté «  réglée  » et  \\nsûreté «  gérée  » :\\n – sûreté «  réglée  »  : elle consiste à éviter les défaillances prévisibles en s’appuyant sur des \\nformalismes, des règles, des automatismes, des mesures et des équipements de protection et \\nsur un management assurant le respect des règles  ;\\n – sûreté «  gérée  »  : elle concerne la capacité de l’organisation et de ses acteurs à percevoir les \\nsituations inattendues et à y répondre de façon adaptée. Elle repose sur l’expertise humaine, la qualité des initiatives, le fonctionnement des collectifs et des organisations et sur un mana -\\ngement et des processus de conception attentifs à la réalité des situations.\\n178.\\n  Approche qualifiée d’«  intégrée et systémique  ».'],\n",
       " ['Retrieving the nuclear reactor domain: ',\n",
       "  '118 Éléments de sûreté nucléaire\\xa0–\\xa0Les réacteurs à eau sous pression\\nde conduite en situations normales, incidentelles et accidentelles (ce qui a guidé la \\nconception de la salle de commande de ces réacteurs). Cela a conduit Électricité de \\nFrance et l’IRSN  à s’interroger sur le juste guidage («  pas à pas  ») des opérateurs par \\nde telles consignes, et à mener des études en la matière 179. Différentes études, y \\ncompris dans d’autres domaines que l’électronucléaire, avaient en effet montré que, pour que le guidage soit efficace, il faut un engagement actif de l’opérateur dans la conduite. Le guidage ne doit donc pas empêcher l’opérateur de prendre une certaine \\n« distance  » par rapport aux prescriptions de la consigne. Cette condition permet de  \\nfavoriser le rôle positif de l’opérateur dans le cas, par exemple, où se présente une difficulté à respecter l’ordre de réalisation des actions prescrit par la consigne alors qu’une action est perçue comme urgente. Ainsi, les études ont conduit les concep -\\nteurs à apporter des améliorations  :\\n –de nature technique, en prévoyant dans le système de conduite la possibi -\\nlité que les opérateurs puissent, dans le parcours des consignes informatisées, s’écarter à tout moment du chemin prescrit par le guidage, dès lors que les \\nactions préconisées ne sont pas en phase avec la cinétique du «  procédé  »,\\n –de nature organisationnelle, en prévoyant qu’un opérateur ne puisse prendre une telle décision qu’après concertation au sein de l’équipe de conduite et accord du chef d’exploitation.\\nPar ailleurs, l’ accident de la centrale nucléaire de Fukushima Daiichi  a conduit à \\ns’interroger sur la robustesse des o'],\n",
       " ['Retrieving the nuclear reactor domain: ',\n",
       "  'rganisations de crise pour faire face à une situa -\\ntion «  extrême  » du même type que celle qui a conduit à cet accident. Les études  \\ndes situations de crise liées à des événements majeurs ou à des catastrophes font \\nressortir l’état de «  rupture  » lié à la soudaineté et à l’ampleur des déstabilisations  \\nengendrées qui débordent les capacités organisationnelles et humaines prévues  ; ces  \\nsituations de crise se déroulent dans un contexte d’urgence et de coordination d’un grand nombre d’intervenants exposés aux aléas et aux dysfonctionnements induits par l’accident et en difficulté pour accomplir les missions et assumer les responsabi -\\nlités formellement prévues pour traiter l’accident et gérer la crise. Le questionnement concerne des sujets tels que le dimensionnement des effectifs nécessaires, la forma -\\ntion et la préparation des personnels à de telles situations, la capacité à mobiliser du personnel de la centrale ou du personnel prestataire, la faisabilité d’interventions en local dans des conditions difficiles, voire hostiles. Ce sont des questions qui ont été abordées dans le cadre des évaluations complémentaires de sûreté menées à la suite de l’ accident de la centrale nucléaire de Fukushima Daiichi , dont les réponses \\n apportées\\xa0 – en\\xa0 France par la mise en œuvre d’un «  noyau dur  » d’équipements  \\nrobustes et par la mise en place d’une Force d’action rapide nucléaire (FARN) – sont développées au chapitre 36 .\\n179.  Voir l’ouvrage «  État des recherches dans le domaine de la sûreté des réacteurs à eau sous pres -\\nsion », J.\\xa0Couturier & M.\\xa0Schwarz, Collection sciences et techniques , IRSN/EDP Sciences, 2017, \\nparagraphe 11.2.2-B.'],\n",
       " ['Retrieving the nuclear reactor domain: ',\n",
       "  \"Les réacteurs nucléaires  : des systèmes sociotechniques complexes – L'importance des FOH  119\\n4.5.  Le développement de moyens et de compétences \\nconcernant les FOH, les principaux sujets étudiés\\n4.5.1. Moyens et compétences\\nAu plan international, les premières réflexions et études, dans les années\\xa01970, ont \\nvisé à mieux comprendre le «  fonctionnement  » humain et son influence sur les perfor -\\nmances des personnels d’exploitation des centrales nucléaires, non seulement lors \\nde la conduite en salle de commande mais aussi lors de toutes les tâches et activités (essais, maintenance, contrôles en service…) exécutées hors de la salle de commande et pouvant avoir une importance en termes de sûreté nucléaire. Ces efforts se sont ensuite élargis à la compréhension et à l’évaluation des facteurs organisationnels, culturels et sociétaux. L’ Agence pour l’énergie nucléaire  de l’Organisation de coopéra-\\ntion et de développement économiques (OCDE/AEN) a diffusé de nombreux rapports qui témoignent de l’intérêt porté par la communauté internationale aux facteurs humains puis organisationnels\\n 180, cela dès après l’accident de la centrale nucléaire de \\nThree\\xa0Mile\\xa0Island.\\nAu cours du temps, les FOH ont pris une importance grandissante dans les travaux \\nmenés au niveau international et des instances telles que l’ AIEA et l’ AEN constituent \\ndes lieux d’échanges précieux. Toutefois, si les organismes de sûreté ont acquis dans un certain nombre de pays une expérience solide, la situation mondiale reste hétérogène. Le domaine des FOH constitue un axe de développement important pour les\"],\n",
       " ['Retrieving the nuclear reactor domain: ',\n",
       "  ' pays qui ne disposent pas encore de l’expérience et de compétences suffisantes pour mener des études et des recherches, des expertises ou encore des programmes d’inspection dans le domaine des FOH.\\nAussi, l’AIEA a lancé en 2014, avec la collaboration d’experts de différents pays, un \\nprogramme d’une durée de quatre années pour aider les organismes de sûreté à mettre en place et renforcer leurs actions en matière de FOH. Ce programme s’est achevé en 2018 avec la publication d’un rapport entièrement consacré à ce sujet pour favoriser le développement et la mise en œuvre de programmes d’inspection et d’évaluation dans le domaine des FOH\\n 181.\\nEn France, dès la fin des années 1970, aussi bien Électricité de France que l’IPSN \\nse sont dotés de compétences spécifiques en matière de FOH, qui ont été renforcées dans les années 1980. Des unités de recherche ont ensuite été mises en place pour faire évoluer les connaissances nécessaires à l’analyse de sûreté, pour faire face à des questions nouvelles (nouvelles technologies, domaines nouveaux), explorer des sujets \\n180.  « International Collaboration in Nuclear Safety – Contribution of the NEA/CSNI Working Group \\non Human Organisational Factors  », D. Tasset, A. Frischknecht, G. Lamarre, B. Gil-Montes, ANS \\n8th International Conference on Nuclear Power Plant Instrumentation, Control and Human Machine Interface Technology, San Diego, États-Unis, 22−27 July 2012.\\n181.\\n  À la lumière du document technique intitulé «  Regulatory Oversight of Human and Organiza -\\ntional Factors for Safety of Nuclear Installations  », IAEA-TECDOC-1846.'],\n",
       " ['Retrieving the nuclear reactor domain: ',\n",
       "  '120 Éléments de sûreté nucléaire\\xa0–\\xa0Les réacteurs à eau sous pression\\nde\\xa0 nature sociétale autour de la gouvernance des risques nucléaires abordée sous \\nl’angle non seulement des facteurs organisationnels mais aussi des facteurs culturels 182.\\nL’étude des dimensions organisationnelles et humaines repose sur des approches \\npluridisciplinaires qui mobilisent les connaissances, modèles et techniques issues des sciences humaines et sociales\\n 183 pour appréhender les systèmes sociotechniques dans leur \\n« fonctionnement réel  » 184. Ces approches s’appliquent notamment pour les phases de \\nconception et d’exploitation normale des installations, ainsi que dans le cadre du retour d’expérience événementiel et dans la phase de démantèlement de ces installations.\\nL’étude des facteurs organisationnels et humains nécessite généralement des obser-\\nvations «  sur le terrain  » (entretiens avec le personnel, observations de chantiers ou de \\nsituations de travail par exemple lors d’activités «  sensibles  » au plan de la sûreté…)  ;  \\nlorsque de telles analyses sont menées dans le cadre d’expertises de sûreté, elles supposent la mise en place de protocoles entre l’ IRSN et l’exploitant concerné\\n 185. L’étude \\npeut aussi s’appuyer sur des simulations, comme celles qui sont menées au Halden \\nMan-Machine Laboratory 186 (HAMMLAB) 187 du réacteur de recherche situé à Halden en \\nNorvège, dans le cadre du projet international dénommé HALDEN Reactor\\xa0Project.\\nLa nature et la qualité des données recueillies par les observations sur le terrain ou \\nlors des simulations constituent des points-clefs pour la validité des résultats. Ainsi, les entretiens avec des acteurs permettent de recueillir non seulement des faits mais aussi des données subjectives (opinions, ressentis, perceptions). Ces données sont croi -\\nsées entre elles, les entretiens étant menés auprès de plusieurs acteurs et croisées avec des données objectives (notes d’organisation, évolutions '],\n",
       " ['Retrieving the nuclear reactor domain: ',\n",
       "  'des paramètres physiques \\nd’un\\xa0système ou notes ou photographies d’observations, par exemple). La «  somme  » \\ndes subjectivités recueillies et le travail d’objectivation 188 qu’elles subissent permettent \\nd’obtenir une image assez fidèle du réel.\\nAu début des années 1990, Électricité de France a considéré que, pour progresser \\ndans l’analyse des événements, la présence de spécialistes FOH devenait nécessaire \\n182.  « État des recherches dans le domaine de la sûreté des réacteurs à eau sous pression  », J.\\xa0 Couturier\\xa0& \\nM.\\xa0Schwarz, Collection sciences et techniques, IRSN/EDP Sciences, 2017, chapitre\\xa011.\\n183.  Sciences qui visent l’explication de la réalité et de ses phénomènes par la connaissance des \\ncauses, des «  lois  » ou des «  modèles  » qui s’y rattachent  : existence de régularités y compris \\npour des comportements en apparence très individuels, manifestation de ces régularités dans les organisations (des individus ayant le même profil, placés dans la même situation, auront des comportements semblables, des stratégies d’actions similaires).\\n184.\\n  La notion de fonctionnement réel renvoie aux pratiques mises en œuvre sur le terrain et se diffé -\\nrentie de ce qui est prévu par les procédures et formalisé dans la documentation d’exploitation.\\n185.  Les protocoles visent à préciser les conditions d’entretiens et d’observations, notamment pour \\npréserver la confidentialité des propos et l’anonymat des personnes interrogées.\\n186.  Laboratoire de recherche en matière d’interface homme-machine.\\n187.  Voire l’ouvrage «  État des recherches dans le domaine de la sûreté des réacteurs à eau sous pression  », \\nJ.\\xa0Couturier & M.\\xa0Schwarz, Collection sciences et techniques, IRSN/ EDP Sciences, 2017, chapitre\\xa011.\\n188.  Voir le rapport DSR n°\\xa0 438 de l’ IRSN  intitulé «  Les facteurs organisationnels et humains de la \\ngestion des risques  : idées reçues, idées déçues  », établi en 2011 et accessible sur le site internet \\nde l’IRSN.'],\n",
       " ['Retrieving the nuclear reactor domain: ',\n",
       "  \"Les réacteurs nucléaires  : des systèmes sociotechniques complexes – L'importance des FOH  121\\ndans les centrales nucléaires en exploitation, au plus près des unités opérationnelles sur \\nle terrain. Ainsi, depuis 1995, chaque centrale dispose d’un spécialiste portant le titre de Consultant\\xa0 FH (CFH). Le réseau de ces consultants est animé au niveau national d’Électricité de France dans un objectif de capitalisation des actions et d’échanges sur les pratiques.\\nÀ partir de 2005, c’est dans ses centres d’ingénierie qu’Électricité de France a mis \\nen place un réseau de «  référents  » de la démarche d’analyse des impacts sociaux, \\norganisationnels et humains (SOH)\\xa0–\\xa0démarche explicitée au paragraphe 16.2.2\\xa0–\\xa0pour \\ndévelopper la prise en compte des aspects humains et organisationnels dans les modi -\\nfications techniques et documentaires.\\nÉlectricité de France a également engagé des actions visant à réduire le nombre \\nd’événements survenant dans les réacteurs du parc électronucléaire comportant des défaillances humaines, en s’appuyant sur les compétences FOH disponibles tant dans les services centraux qu’au niveau des sites (CNPE). Il a déployé à partir de 2006, sur tous les sites, des dispositions visant à renforcer la fiabilité des actions humaines afin \\nd’aider chaque professionnel à «  faire bien du premier coup  » en s’appuyant sur des \\npratiques standards de fiabilisation des interventions reconnues au plan international  : \\npré-job briefing, «  minute d’arrêt  », recours à des contrôles spécifiques (autocontrôle \\nou contrôles croisés), communication «  sécurisée  » 189, débriefing.\\n4.5.2. Principaux sujets étudiés\\nDès le début des années 1980, à la suite de l’ accident de la centrale nucléaire de \\nThree\\xa0 Mile\\xa0 Isla\"],\n",
       " ['Retrieving the nuclear reactor domain: ',\n",
       "  'nd, des experts et des chercheurs à Électricité de France et à l’IPSN, \\nnotamment en ergonomie, ont contribué à la réalisation d’études sur les activités de conduite en salle de commande et ont été impliqués dans le projet de conception de la salle de commande informatisée pour les réacteurs du palier N4. L’étude de la prise en compte des FOH au stade de la conception a été poursuivie avec la concep -\\ntion du réacteur EPR\\n 190 : les sujets traités ont concerné l’intégration des FOH dans la \\n méthodologie de conception, les interfaces homme-machine, les moyens de conduite \\nprévus pour les opérateurs en salle de commande (ce sujet a été évoqué plus haut), l’organisation des équipes de conduite, les interventions des opérateurs en local. À partir des années 2000, les FOH ont également été pris en compte de manière appro -\\nfondie pour la conception et la réalisation de modifications de nature matérielle ou organisationnelle dans les centrales nucléaires en exploitation. La prise en compte des\\xa0FOH pour\\xa0la\\xa0conception de nouvelles installations ou la conception de modifica -\\ntions en exploitation fait l’objet du chapitre 16.\\n189.  La communication orale dite sécurisée est une pratique qui permet aux intervenants de trans -\\nmettre des informations claires et complètes et à l’émetteur de l’information de s’assurer qu’elles ont été bien comprises par le destinataire.\\n190.\\n  Les années 2000 sont aussi mises à profit, notamment par l’ IRSN, pour analyser comment sont \\npris en compte les facteurs organisationnels et humains dans les processus de conception et\\xa0d’ex -\\nploitation de projets d’installations nucléaires telles que le réacteur de recherche Jules Horowitz  \\nou le Centre industriel de stockage géologique profond  (CIGEO).'],\n",
       " ['Retrieving the nuclear reactor domain: ',\n",
       "  '122 Éléments de sûreté nucléaire\\xa0–\\xa0Les réacteurs à eau sous pression\\nLes compétences spécifiques en matière de FOH sont désormais sollicitées\\xa0–\\xa0aussi \\nbien chez l’exploitant Électricité de France  qu’à l’IRSN\\xa0– pour analyser les événements \\nsignificatifs et en rechercher les causes organisationnelles ou humaines  ; cette analyse \\nmet en œuvre des méthodes qui se sont affinées au cours du temps. L’analyse de tels \\névénements conduit à en rechercher non seulement les causes directes mais aussi les \\ncauses profondes, sachant que  :\\n –les défaillances techniques sont conditionnées par des défaillances humaines et \\norganisationnelles  ;\\n –les erreurs humaines ne sont que les symptômes de défaillances plus profondes \\nde l’organisation  ; il convient donc d’éviter une focalisation excessive sur les \\nseules activités ou comportements des opérateurs.\\nLes règles et pratiques mises en œuvre en matière d’analyse des événements sont \\nprésentées au chapitre 21.\\nPlusieurs événements sont survenus en 1989-1990 dans les réacteurs du parc élec-\\ntronucléaire français, en période d’arrêt de tranche  ; il s’agissait notamment d’erreurs \\nopératoires sur des matériels, pérennes (erreurs de positionnement de vannes de mise \\nen configuration de capteurs de mesure, dites erreurs de «  lignage  ») ou installés à titre \\nprovisoire (dispositions et moyens'],\n",
       " ['Retrieving the nuclear reactor domain: ',\n",
       "  ' particuliers [DMP], laissés en place par erreur après \\nune intervention)  ; ces événements ont conduit Électricité de France à analyser leurs \\ncauses et à mettre en place des dispositions correctives notamment pour les interven -\\ntions de maintenance  ; ce sujet est développé au paragraphe 22.2.\\nMais, dans les centrales en exploitation, le champ d’activités en matière de FOH \\nest large et de nombreux sujets font l’objet d’analyses  ; outre l’analyse du retour d’ex -\\npérience et l’organisation des activités de conduite en salle de commande évoquées \\nci-dessus, les sujets suivants ont été étudiés  :\\n –la gestion des compétences, la formation du personnel d’exploitation,\\n –l’organisation des activités de maintenance, leurs évolutions, notamment la maîtrise de la sous-traitance,\\n –la gestion des situations d’urgence et de crise,\\net doivent à l’évidence faire l’objet d’une attention permanente tant de la part \\n d’Électricité de France  que des organismes de sûreté.\\nLa prise en compte des FOH dans les centrales nucléaires en exploitation fait l’objet \\ndu chapitre\\xa025.\\n4.6. Les FOH dans la règlementation française\\nEn 1984, l’«  arrêté qualité  » 191 a formalisé en France un certain nombre d’exi -\\ngences relatives à la qualité de la conception, de la construction et de l’exploitation \\n191.  Arrêté du 10 août 1984, évoqué au chapitre 2.'],\n",
       " ['Retrieving the nuclear reactor domain: ',\n",
       "  \"Les réacteurs nucléaires  : des systèmes sociotechniques complexes – L'importance des FOH  123\\ndes installations nucléaires de base (avec notamment, pour les équipements impor -\\ntants pour la sûreté, les notions d’exigences définies [ED] et d’activités concernées par \\nla qualité\\xa0[ACQ]). Ces exigences concernent entre autres des sujets relevant des FOH tels que l’organisation, les moyens humains et techniques, les compétences (forma -\\ntion, qualification, habilitation des personnels), le contrôle des activités concernées par la qualité, la surveillance des prestataires, la gestion des documents, le traitement des anomalies et incidents…\\nJusqu’en 2012, le texte de cet arrêté a été la base règlementaire qui a permis aux \\ninspecteurs de l’autorité de sûreté, avec l’appui des spécialistes FOH de l’IPSN puis de l’IRSN, d’effectuer des inspections sur ces différents sujets. Ces dispositions règlemen-\\ntaires sont reprises et élargies par l’«  arrêté INB  » du 7 février 2012 dont il a été ques -\\ntion au chapitre 2  ; le texte de cet arrêté prescrit la mise en place d’un «  système de \\nmanagement intégré  » 192, fixe des exigences applicables aux activités importantes pour \\nla « protection des intérêts  » et des exigences sur la surveillance des intervenants exté -\\nrieurs, ainsi que des exigences quant à la prise en compte des FOH dans l’analyse des événements significatifs. Des compléments ont été apportés aux exigences relatives à la sous-traitance par le décret n°\\xa02016-846 du 28 juin \"],\n",
       " ['Retrieving the nuclear reactor domain: ',\n",
       "  '2016.\\nÀ partir de 2004, l’autorité de sûreté française, consciente de l’importance crois -\\nsante des sujets FOH pour la sûreté, a renforcé leur prise en compte dans ses activités de contrôle et s’est dotée pour cela de spécialistes FOH, a mis en place des forma -\\ntions systématiques des inspecteurs aux FOH et a élaboré des guides d’inspection en matière de FOH.\\nÀ la suite de l’ accident de la centrale nucléaire de Fukushima Daiichi  qui a mis en \\nlumière l’importance des aspects sociétaux, elle a de plus décidé d’ouvrir le champ de ses réflexions sur les FOH aux différentes composantes de la société, avec la créa -\\ntion en 2012 d’une instance pluridisciplinaire et pluraliste, le Comité sur les facteurs \\nsociaux, organisationnels et humains (COFSOH). Au sein de ce comité, cinq groupes de\\xa0travail concernent la sous-traitance, les questions juridiques, la gestion des situa-\\ntions de crise, l’articulation entre la sûreté «  réglée  » et la sûreté «  gérée  », enfin les \\nactivités de démantèlement des installations  ; les rapports sont rendus publics 193.\\n192.  « L’exploitant définit et met en œuvre un système de management intégré qui permet d’assurer que \\nles exigences relatives à la protection des intérêts [au sens de la règlementation] sont systémati-\\nquement prises en compte dans toute décision concernant l’installation.  »\\n193.  Ils sont accessibles sur le site internet de l’ASN à l’adresse https://www.asn.fr/L-ASN/Comite- \\nsur-les-facteurs-sociaux-organisationnels-et-humains .'],\n",
       " ['Retrieving the nuclear reactor domain: ',\n",
       "  'Chapitre 33\\nLa conduite incidentelle \\net accidentelle  :  de l’approche \\névénementielle à l’approche par états\\nParmi les leçons tirées de l’accident de la centrale nucléaire de Three\\xa0Mile\\xa0Island, il \\na été signalé au chapitre 32 l’effort de réécriture et d’amélioration générale des procé -\\ndures de conduite incidentelle ou accidentelle des réacteurs du parc électronucléaire \\nfrançais. Il s’est agi d’un effort important, apportant un bénéfice significatif en termes de sûreté. Cet effort n’a pas, pour autant, réglé toutes les difficultés liées aux principes mêmes de l’élaboration des procédures, ce qui est développé dans le présent chapitre.\\n33.1. Les limites de l’approche événementielle\\nPar '],\n",
       " ['Retrieving the nuclear reactor domain: ',\n",
       "  'déclinaison de l’approche «  événementielle  », chaque procédure de conduite \\nincidentelle ou accidentelle (I ou A) était relative à un événement initiateur unique bien identifié lors de la conception des réacteurs.\\nPar extension, les procédures complémentaires H ont traité des cumuls de défail -\\nlances simultanées bien identifiés puisqu’il s’agissait chaque fois de l’ensemble des voies d’un système redondant, et d’elles seules.\\nL’objectif assigné à ces procédures était d’éviter ou, à tout le moins, limiter les \\nruptures de gaines de crayons combustibles, source potentielle principale de dissémi -\\nnation de substances radioactives, et de ramener l’installation dans un état stable et durable.'],\n",
       " ['Retrieving the nuclear reactor domain: ',\n",
       "  '948 Éléments de sûreté nucléaire\\xa0–\\xa0Les réacteurs à eau sous pression\\nIl est intéressant de comparer l’accident de Three\\xa0Mile\\xa0Island aux événements ou \\ncombinaisons d’événements initiateurs retenus pour l’élaboration des procédures\\xa0 I, \\nA et H. Dans le cas de Three\\xa0 Mile\\xa0 Island, il s’agit en fait d’un événement initiateur relevant de la troisième catégorie de conditions de fonctionnement (le maintien de l’ouverture d’une vanne de décharge du pressuriseur, ce qui équivaut à une brèche au sommet de cet équipement), de la défaillance totale, mais limitée dans le temps, de l’alimentation en eau des générateurs de vapeur et de la défaillance totale de l’injec-tion de sécurité due à un défaut de compréhension des opérateurs.\\nLa réalité des situations peut, on le voit, être complexe.\\nDe ce fait, les procédures de conduite dites événementielles ne pouvaient pas \\ncouvrir toutes les combinaisons possibles d’événements correspondant à des cumuls \\nde défaillances matérielles ou humaines, simultanées ou différées, telles que, par exemple, une erreur de diagnostic initial, une mauvaise application d’une procédure, un cumul d’incidents ou d’accidents, une défaillance totale d’un système de sauvegarde… De plus, la multiplication des séquences ainsi étudiées accroîtrait le nombre des procé-dures de conduite et rendrait le diagnostic et donc le choix de la bonne procédure pratiquement impossibles\\xa0–\\xa0outre le fait qu’il faudrait maintenir les procédures à jour, d’où une complexification du travail documentaire.\\nL’approche «  événementielle  » présentait enfin une '],\n",
       " ['Retrieving the nuclear reactor domain: ',\n",
       "  'difficulté d’application pratique, \\nà savoir l’impossibilité de reprendre le diagnostic initial en cas d’évolution de l’installa -\\ntion non conforme aux prévisions de ce diagnostic.\\nPour sortir de cette impasse, Électricité de France  et Framatome, constructeur \\ndes chaudières, ont proposé d’aborder le choix des mesures correctives à appliquer \\nen situation incidentelle ou accidentelle, quelle qu’elle soit, par une voie différente  : \\nl’approche par états. Les discussions sur ce sujet avec le Service central de sûreté des installations nucléaires et l’IPSN ont démarré en 1984.\\n33.2. Le concept de l’approche par états\\nLe concept de l’approche par états repose sur un constat  : si les événements acci -\\ndentels et leur déroulement peuvent être très variés, les états de réactivité, de refroi -\\ndissement et de confinement possibles du réacteur peuvent par contre être dénombrés, depuis les conditions normales de fonctionnement jusqu’aux états les plus dégradés.\\nIl est alors possible de déterminer, pour chacun des états anormaux, une stratégie \\nde conduite et des actions à mener par les opérateurs permettant de ramener l’instal-lation dans une situation plus satisfaisante au plan de la sûreté. L’équipe de conduite peut ainsi, sur la base d’un diagnostic permanent de l’installation, effectuer ces actions sans avoir nécessairement compris l’enchaînement des événements antérieurs.\\nPour cela, il a fallu montrer qu’il existe une relation directe entre les états obser -\\nvables et des ensembles d’actions à mener par les opérateurs pour améliorer la situation.'],\n",
       " ['Retrieving the nuclear reactor domain: ',\n",
       "  'La conduite incidentelle et\\xa0accidentelle  : de l’approche événementielle à l’approche par états  949\\nIl a ainsi fallu caractériser les états de réactivité du réacteur et les actions à mener \\npour chaque état. Un effort équivalent a été effectué pour ce qui concerne la ther -\\nmohydraulique, afin  :\\n –de déterminer tous les états de refroidissement possibles de la chaudière, leurs \\ndomaines de stabilité et les transitions entre états,\\n –de caractériser ces différents états par des grandeurs physiques mesurables,\\n –de déterminer, pour chacun de ces états, les actions correctives ou réparatrices \\nà mener par les opérateurs, considérées comme les meilleures, dans le sens \\nqu’elles améliorent la situation pour l’ensemble des événements conduisant à cet état, sans obérer la suite,\\n –de construire une synthèse des points précédents où ne sont plus distingués que les sous-ensembles d’états nécessitant des actions différentes,\\n –de déterminer les mesures physiques et les traitements d’informations en salle de commande nécessaires pour effectuer le diagnostic d’état et suivre l’effica -\\ncité des actions effectuées.\\nAu plan thermohydraulique, le fonctionnement de la chaudière a donc été analysé \\nà partir des bilans fondamentaux de masse, d’énergie et d’impulsion de chacun de ses \\ngrands éléments. Peuvent alors être caractérisés  :\\n –le cheminement de l’énergie  : production dans le combustible\\xa0 –\\xa0e'],\n",
       " ['Retrieving the nuclear reactor domain: ',\n",
       "  'xtraction par \\nle fluide primaire – transport dans le circuit primaire\\xa0–\\xa0transfert hors du circuit primaire,\\n –l’accumulation ou la restitution d’énergie dans les circuits primaire et secondaire,\\n –les variations des masses d’eau primaire et secondaire.\\nPour chacune de ces caractéristiques, différentes configurations ont été retenues, \\ncouvrant l’ensemble des possibilités physiques, distinguées par les valeurs de para -\\nmètres mesurables (pressions, niveaux, températures et leurs dérivées par rapport au temps, taux de vide dans le circuit primaire, radioactivité dans les circuits secondaires des générateurs de vapeur…).\\nLes combinaisons possibles de ces configurations ont été regroupées et il est apparu \\nque :\\n –la masse du fluide primaire, la circulation de ce fluide et l’extraction de chaleur par le circuit primaire déterminent le comportement de la chaudière et l’extrac -\\ntion de chaleur du combustible  ;\\n –l’extraction de chaleur hors du circuit primaire est fonction de l’état du circuit secon -\\ndaire et de la présence éventuelle de gaz incondensables dans le circuit primaire, déterminée par l’écart de température entre l’eau du circuit primaire et celle de \\nl’eau du circuit secondaire, qu’on appelle «  pincement primaire-secondaire  »  ;\\n –l’état du circuit secondaire dépend lui-même de l’état de chacun des géné-rateurs de vapeur, déterminé à partir des différentes masses de fluide '],\n",
       " ['Retrieving the nuclear reactor domain: ',\n",
       "  '950 Éléments de sûreté nucléaire\\xa0–\\xa0Les réacteurs à eau sous pression\\n secondaire, pressions de vapeur et niveaux de radioactivité éventuelle du \\nfluide secondaire.\\nÀ chaque état global ainsi défini sont associées des actions spécifiques sur les diffé -\\nrents systèmes, en fonction de leur disponibilité (injection de sécurité, charge et décharge \\nd’eau dans le circuit primaire, aspersion d’eau dans l’enceinte de confinement et décharge du pressuriseur, alimentation de secours en eau des générateurs de vapeur, décharge de vapeur d’eau par le circuit secondaire, isolement des lignes de vapeur et d’eau du circuit secondaire, etc.). Ces actions sont choisies en vue de stabiliser l’état de l’installation et si possible l’améliorer en progressant vers des états de moins en moins dégradés.\\nD’un point de vue pratique, les paramètres physiques caractérisant l’état de l’instal -\\nlation ont en définitive été regroupés en six fonctions d’état  :\\n –la sous-criticité du cœur ou le niveau de puissance nucléaire,\\n –l’inventaire en eau du circuit primaire,\\n –l’évacuation de la puissance résiduelle hors du circuit du primaire,\\n –l’intégrité des générateurs de vapeur,\\n –l’inventaire en eau des générateurs de vapeur,\\n –l’intégrité de l’enceinte de confinement.\\nPour tenir compte de l’état de l’inst'],\n",
       " ['Retrieving the nuclear reactor domain: ',\n",
       "  'rumentation en place au début de l’application \\nde l’approche par états\\xa0–\\xa0pas de mesure du taux de vide dans le circuit primaire, pas d’indication du niveau d’eau dans la cuve des tranches de 900 MWe\\xa0–, des regroupe -\\nments d’états ont été effectués sans remettre en cause la démarche.\\n33.3. Première application de l’approche par états\\nLa première application de l’approche par états a été la mise au point d’une procé -\\ndure de conduite qualifiée d’ultime, la procédure U1, en complément des procédures événementielles existantes.\\nLa procédure U1 avait pour but d’assurer les meilleures conditions possibles de \\nrefroidissement de la chaudière et de sauvegarde du cœur du réacteur dans des situa -\\ntions où les procédures I, A et H, relatives à des séquences accidentelles bien iden -\\ntifiées, se révélaient inadaptées ou inefficaces. L’objectif était bien entendu d’éviter ou de retarder et limiter l’endommagement du cœur du réacteur et ses conséquences radiologiques, selon la gravité de la situation et les moyens disponibles.\\nLa procédure U1 indiquait, en fonction de l’évolution des températures à la sortie \\ndu cœur du réacteur et de la disponibilité des systèmes et matériels, les meilleures \\nactions en termes d’utilisation  :\\n –des générateurs de vapeur,\\n –de l’injection de sécurité,'],\n",
       " ['Retrieving the nuclear reactor domain: ',\n",
       "  'La conduite incidentelle et\\xa0accidentelle  : de l’approche événementielle à l’approche par états  951\\n –des soupapes de décharge du pressuriseur,\\n –des pompes primaires,\\npour arrêter, retarder ou atténuer les évolutions dangereuses, donnant ainsi du temps \\npour retrouver la disponibilité de systèmes défaillants.\\nLa décision d’abandonner une procédure événementielle en cours d’utilisation pour \\nla procédure U1 devait être prise, après un arrêt d’urgence, dans les cas suivants (très simplifiés\\xa0–\\xa0voir la figure 33.1\\n) :\\n –température à la sortie du cœur du réacteur supérieure à 350\\xa0°C,\\n –marge par rapport à l’ébullition du fluide primaire (notée ∆Tsat) inférieure à \\n10\\xa0°C avec l’injection de sécurité indisponible,\\n –aucun générateur de vapeur disponible (c’est-à-dire capable d’évacuer une partie de la puissance résiduelle sans que la vapeur ne soit contaminée),\\n –évolution défavorable du couple pression-température du fluide primaire,\\n –système d’aspersion dans l’enceinte de confinement indisponible alors que la pression, la température ou la radioactivité y sont anormales.\\nPlutôt que d’introduire ces critères dans chacune des procédures «  événemen -\\ntielles  », il est apparu intéressant de prévoir un diagnostic permanent  :\\n –selon une logique in'],\n",
       " ['Retrieving the nuclear reactor domain: ',\n",
       "  'dépendante, et redondante, des procédures existantes, qui restaient dès lors inchangées et étaient susceptibles d’évoluer ultérieurement \\nde façon autonome  ;\\n –faisant appel à l’ingénieur de sûreté (IS), ce qui assurait une redondance \\nhumaine par rapport aux opérateurs  ;\\n –s’appuyant sur l’étude des états de refroidissement de la chaudière, complétée \\npar l’analyse de la disponibilité des systèmes de sauvegarde  ;\\n –utilisant l’instrumentation disponible.\\nUne procédure particulière de surveillance permanente après incident (SPI) avait en \\nconséquence été établie  ; elle devait être appliquée de manière cyclique par l’ingénieur \\nde sûreté, appelé en salle de commande dès que se déclenchait un arrêt d’urgence du réacteur ou que la marge à l’ébullition du fluide primaire devenait inférieure à 20\\xa0°C, jusqu’au retour à une situation normale. Cette surveillance portait sur les paramètres \\nsuivants  :\\n –la disponibilité de chaque générateur de vapeur, c’est-à-dire sa capacité à évacuer une partie de la puissance résiduelle sans que la vapeur soit contaminée,\\n –la masse d’eau dans le circuit primaire et la température de cette eau à la sortie du cœur du réacteur,\\n –la capacité du circuit secondaire à refroidir et à dépressuriser le circuit primaire,'],\n",
       " ['Retrieving the nuclear reactor domain: ',\n",
       "  '952 Éléments de sûreté nucléaire\\xa0–\\xa0Les réacteurs à eau sous pression\\n –la mise en service effective des systèmes de sauvegarde (alimentation de \\nsecours des générateurs de vapeur, injection de sécurité à haute ou à moyenne pression, injection de sécurité à basse pression, aspersion d’eau dans l’enceinte de confinement, etc.),\\n –la pression, la température et la radioactivité dans l’enceinte de confinement,\\n –l’état de criticité du cœur (flux neutronique, positions des grappes de contrôle, concentration du bore,'],\n",
       " ['Retrieving the nuclear reactor domain: ',\n",
       "  ' etc.).\\nCette surveillance devait permettre, le cas échéant, à l’ingénieur de sûreté de \\ndemander aux opérateurs d’abandonner la procédure (I, A ou H) en cours d’utilisation pour appliquer la procédure U1. Il devait continuer ensuite sa mission de surveillance en utilisant la procédure SPU, nouvelle procédure cyclique de suivi de l’évolution de la chaudière en situation ultime déclarée.\\nFigure 33.1.  Première application de l’approche par états  : procédure de surveillance permanente SPI \\net procédure U1. IRSN.'],\n",
       " ['Retrieving the nuclear reactor domain: ',\n",
       "  'La conduite incidentelle et\\xa0accidentelle  : de l’approche événementielle à l’approche par états  953\\nL’application de la procédure SPI conduisait, le plus souvent, à confirmer avec un \\nléger décalage dans le temps les principales actions déjà demandées par la procédure \\nutilisée par l’équipe de conduite. Dans certains cas de défaillances multiples, elle deman -\\ndait aux opérateurs de réaliser des actions complémentaires limitées comme l’isolement d’un générateur de vapeur, sans pour autant abandonner la procédure en cours.\\nL’ensemble {SPI,\\xa0 U1,\\xa0 SPU} a constitué un complément très important aux procé-\\ndures I, A et H.\\n33.4. Généralisation de l’approche par états\\nLes études sur l’approche par états et les moyens nécessaires pour l’utiliser de \\nmanière précise et graduée lors d’incidents fréquents ont été poursuivies. C’est ainsi que les premières tranches des centrales nucléaires de Penly et de Golfech (réacteurs de 1\\xa0300\\xa0MWe du palier P’4) ont pu disposer, dès leur démarrage en 1990, de certaines procédures déclinant l’approche par états de façon élargie.\\nUn tel jeu de procédures traitait de tous les accidents «  thermohydrauliques  » mais \\nne s’appliquait pas aux situations où le réacteur est connecté au circuit de refroidis -\\nsement à l’arrêt (RRA). Ce jeu de procédures couvrait donc, de manière progressive (et\\xa0 hors situations à l’arrêt), toutes les situations incidentelles et accidentelles du circuit primaire, de la situation d’arrêt d’urgence aux situations les plus dégradées, la conduite du circ'],\n",
       " ['Retrieving the nuclear reactor domain: ',\n",
       "  'uit secondaire, la surveillance de l’enceinte de confinement et la dispo-nibilité de certains systèmes. Il n’y avait donc plus de solutions de continuité entre les procédures I, A et H et la procédure U1.\\nD’autres procédures à caractère événementiel complétaient cet ensemble, à titre \\ntransitoire.\\nL’articulation des responsabilités entre l’équipe de conduite et l’ingénieur de sûreté \\nétait analogue à celle qui existait pour le jeu traditionnel de documents de conduite \\n(« événementiels  »).\\nL’approche par états a ensuite été «  généralisée  » et appliquée aux tranches du \\npalier\\xa0N4 dès leur démarrage pour la conduite du réacteur depuis la salle de commande principale, en couvrant toutes les situations du circuit primaire tant qu’il est fermé (RRA connecté ou non), ainsi que la perte de l’ensemble des systèmes importants pour \\nla sûreté  ; elle a ensuite été étendue aux états dans lesquels le circuit primaire n’est pas \\nfermé.\\nSon application a également été progressivement étendue aux différentes tranches \\nde 1\\xa0 300\\xa0 MWe, qui étaient toutes équipées d’une mesure du niveau d’eau dans la cuve, après, notamment, reprise de la formation des opérateurs en tenant compte de l’expérience acquise sur les premières tranches (N4) ayant utilisé l’approche par états \\n« généralisée  ».\\nL’application de cette approche «  généralisée  » aux tranches de 900\\xa0 MWe a été \\nensuite réalisée, à partir de la fin des années 1990, quand les travaux de mise en place d’une mesure du niveau d’eau dans la cuve eurent été réalisés.'],\n",
       " ['Retrieving the nuclear reactor domain: ',\n",
       "  '954 Éléments de sûreté nucléaire\\xa0–\\xa0Les réacteurs à eau sous pression\\n33.5. L’approche par états «  stabilisée  »\\nAprès diverses «  générations  » de l’approche par états, la conduite incidentelle et \\naccidentelle s’est stabilisée selon le schéma décrit ci-après.\\n1. Un document, appelé document d’orientation et de stabilisation ( DOS), permet \\nde guider les opérateurs en salle de commande sur les actions à entreprendre en \\nfonction des informations et alarmes qu’ils reçoivent.\\n2. À l’interface entre le fonctionnement normal et les procédures APE, l’équipe de conduite dispose de quelques règles, procédures (dont une procédure dite \\nde surveillance permanente par états [SPE], qui se substitue à la procédure SPI) et consignes incidentelles (de type I-système) que les opérateurs peuvent être \\namenés à utiliser dans quelques cas précis de situations «  dégradées  »  :\\n •en cas de perte du réseau électrique principal, la consigne d’îlotage,\\n •en cas d’apparition de fuites primaires ou de dysfonctionnement des fonctions de charge et de décharge du circuit primaire, la consigne I-RCV,\\n •en cas de dysfonctionnement des barres de contrôle, la consigne I-RGL,\\n •en cas de dysfonctionnement des groupes motopompes primaires, la consigne I-RCP (problèmes spécifi'],\n",
       " ['Retrieving the nuclear reactor domain: ',\n",
       "  'ques aux joints des pompes par exemple),\\n •en cas de problèmes concernant le refroidissement ou la manutention des assemblages combustibles, les consignes I-PTR et I-PMC.\\n3. Les procédures I, A et H sont intégrées et couvertes par l’ APE, qui propose \\ndifférentes stratégies selon l’état de l’installation, regroupées dans quatre \\nensembles  :\\n •ECP (de gravité croissante 1 à 4)  : conduite du circuit primaire et des \\ncircuits associés dans les états du réacteur où le RRA n’est pas connecté,\\n •ECPR (de gravité croissante 1 à 2)  : conduite du circuit primaire et des \\ncircuits associés dans les états du réacteur où le RRA est connecté, circuit primaire fermé,\\n •ECPRO  : conduite du circuit primaire et des circuits associés dans les états  \\ndu réacteur où le RRA est connecté, circuit primaire ouvert ou non éventé,\\n •ECS : conduite de la partie secondaire du réacteur.\\nDans chacun de ces ensembles, plusieurs stratégies de conduite sont possibles  : par \\nexemple, dans les ECP 882, les stratégies sont  :\\n – « stabilisation  » (rejoindre les conditions normales d’exploitation ou attente en \\nrepli),\\n882.  Voir le mémento EDF déjà cité et le paragraphe 8.2.1 de l’ouvrage «  Physique, fonctionnement et \\nsûreté des REP  », B.\\xa0Tarride, INSTN/EDP Sciences, 2013.'],\n",
       " ['Retrieving the nuclear reactor domain: ',\n",
       "  'La conduite incidentelle et\\xa0accidentelle  : de l’approche événementielle à l’approche par états  955\\n – « repli\\xa0doux  » (rejoindre l’état de repli pour réparation, en se rapprochant de la \\nconduite normale  : refroidissement à -\\xa014\\xa0°C/h ou -\\xa028\\xa0°C/h),\\n – « repli\\xa0dur  » (passage rapide en état de repli avec un gradient de refroidissement \\n« dur » à -\\xa056\\xa0°C/h),\\n – « stabilisation/contrôle de la puissance nucléaire  » (envoi de bore pour ramener \\nle cœur à un état sous-critique puis passer à la concentration de bore nécessaire \\npour le passage en état d’arrêt à froid),\\n – « réduction du ΔTsat  » (stabiliser la température et dépressuriser le circuit \\nprimaire pour éviter un choc froid sur la cuve et revenir dans le domaine de pressions et températures des états standards),\\n – « restauration de l’évacuation de la puissance résiduelle  » (évacuation de la puis-\\nsance résiduelle par passage en mode gavé-ouvert),\\n – « restauration de l’inventaire en eau du circuit primaire  » (rétablir au moins un \\nniveau d’eau dans les branches chaudes, pour passer ensuite dans la stratégie \\nde « repli dur  »),\\n – « sauvegarde ultime du cœur  » (éviter o'],\n",
       " ['Retrieving the nuclear reactor domain: ',\n",
       "  'u retarder la fusion du cœur, par tous les \\nmoyens possibles d’apport d’eau).\\nÀ ces stratégies sont associées des procédures et des fiches de manœuvre.\\nDans la conduite selon l’approche par états, l’équipe de conduite suit l’évolution de \\nla situation et rectifie, si nécessaire, la stratégie de conduite, selon le schéma cyclique \\nreprésenté sur la figure 33.2.\\n4. Enfin, pour compléter cet ensemble, au-delà de la conduite incidentelle et accidentelle proprement dite, et couvrir des états plus dégradés, l’exploitant continue de disposer des quatre procédures ultimes U déjà présentées au \\n paragraphe 17.8, appelées par le guide d’action des équipes de crise (GAEC) ou \\nle guide d’intervention en accident grave (GIAG)  :\\n •U2 : localisation et isolement des fuites de l’enceinte de confinement et \\nréinjection de l’eau contaminée dans l’enceinte,\\n •U3 : mise en place de moyens mobiles de secours des systèmes EAS et \\nISBP,\\n •U4 : limitation des rejets gazeux directs (spécifiquement pour la centrale \\nnucléaire de Cruas 883),\\n •U5 : éventage-filtration de l’enceinte de confinement à travers le filtre à \\nsable.\\n883.  Voir le paragraphe 17.5.8.'],\n",
       " ['Retrieving the nuclear reactor domain: ',\n",
       "  '956 Éléments de sûreté nucléaire\\xa0–\\xa0Les réacteurs à eau sous pression\\nFigure 33.2.  Schéma cyclique dans l’approche par état. IRSN (source EDF).\\n33.6. L’approche par états pour le réacteur EPR\\nPour le réacteur EPR\\xa0Flamanvil'],\n",
       " ['Retrieving the nuclear reactor domain: ',\n",
       "  'le\\xa03, l’approche par états a été retenue dès la concep -\\ntion des procédures de conduite incidentelle et accidentelle. Le guidage des opérateurs \\n(« orientation et stabilisation  », voir plus haut) est toutefois automatisé.']]"
      ]
     },
     "execution_count": 120,
     "metadata": {},
     "output_type": "execute_result"
    }
   ],
   "source": [
    "doc"
   ]
  },
  {
   "cell_type": "markdown",
   "id": "b834620c",
   "metadata": {},
   "source": [
    "## Load Instructor Model"
   ]
  },
  {
   "cell_type": "code",
   "execution_count": 121,
   "id": "dd8b449b",
   "metadata": {},
   "outputs": [
    {
     "name": "stdout",
     "output_type": "stream",
     "text": [
      "load INSTRUCTOR_Transformer\n",
      "max_seq_length  512\n"
     ]
    }
   ],
   "source": [
    "model = INSTRUCTOR('hkunlp/instructor-xl')"
   ]
  },
  {
   "cell_type": "markdown",
   "id": "5f16201c",
   "metadata": {},
   "source": [
    "# How to write instructions\n",
    "\n",
    "_Represent the **domain** **text_type** for **task_objective**_\n",
    "\n",
    "**domain** : specifies the domain of the text (science, finance, medicine, etc.)\n",
    "\n",
    "**text_type**: specifies the encoding unit  (sentence, document, paragraph, etc.)\n",
    "\n",
    "**task_objective**: specifies the objective of embedding (retrieve a document, classify the sentence, etc.)"
   ]
  },
  {
   "cell_type": "markdown",
   "id": "fa0b0c79",
   "metadata": {},
   "source": [
    "# Defining the research question\n",
    "\n",
    "Prompt Testing with mulitple scenarios"
   ]
  },
  {
   "cell_type": "markdown",
   "id": "f213a103",
   "metadata": {},
   "source": [
    "## Queries"
   ]
  },
  {
   "cell_type": "markdown",
   "id": "e095986a",
   "metadata": {},
   "source": [
    "### - Control Query"
   ]
  },
  {
   "cell_type": "code",
   "execution_count": 65,
   "id": "d8cc8964",
   "metadata": {},
   "outputs": [],
   "source": [
    "query = [[\"Represent the nuclear reactor domain:\",\n",
    "          \"Comment sont conduites les études organisationnelles et humaines sur le terrain ?\"]]"
   ]
  },
  {
   "cell_type": "markdown",
   "id": "18d30c12",
   "metadata": {},
   "source": [
    "### - Experimental Queries"
   ]
  },
  {
   "cell_type": "code",
   "execution_count": 122,
   "id": "a6885db3",
   "metadata": {},
   "outputs": [],
   "source": [
    "query = [[\"Represent the nuclear reactor domain: \",\n",
    "          \"Quelle est l'influence de l'incident de mars 2002 ?\"]]"
   ]
  },
  {
   "cell_type": "code",
   "execution_count": 62,
   "id": "97cd2802",
   "metadata": {},
   "outputs": [],
   "source": [
    "query = [[\"Represent the nuclear reactor domain:\",\n",
    "          \"Comment sont conduites les études organisationnelles et humaines sur le terrain ?\"]]"
   ]
  },
  {
   "cell_type": "code",
   "execution_count": 164,
   "id": "6ee0c4e7",
   "metadata": {},
   "outputs": [],
   "source": [
    "query = [[\"Represent the nuclear reactor domain:\",\n",
    "          \"Quelles sont les caractéritiques de l'état d'une installation ?\"]]"
   ]
  },
  {
   "cell_type": "code",
   "execution_count": 165,
   "id": "77af0f82",
   "metadata": {},
   "outputs": [
    {
     "name": "stdout",
     "output_type": "stream",
     "text": [
      "[['Represent the nuclear reactor domain:', \"Quelles sont les caractéritiques de l'état d'une installation ?\"]]\n"
     ]
    }
   ],
   "source": [
    "print(query)\n"
   ]
  },
  {
   "cell_type": "code",
   "execution_count": 166,
   "id": "6acd03a2",
   "metadata": {
    "scrolled": true
   },
   "outputs": [],
   "source": [
    "start = time.time()\n",
    "query_embeddings = model.encode(query)\n",
    "end = time.time()"
   ]
  },
  {
   "cell_type": "code",
   "execution_count": 167,
   "id": "de9a7d0e",
   "metadata": {},
   "outputs": [
    {
     "name": "stdout",
     "output_type": "stream",
     "text": [
      "5.745929002761841\n"
     ]
    }
   ],
   "source": [
    "print(end-start)"
   ]
  },
  {
   "cell_type": "markdown",
   "id": "497c6a31",
   "metadata": {},
   "source": [
    "## Corpus"
   ]
  },
  {
   "cell_type": "code",
   "execution_count": 128,
   "id": "b1fe7e96",
   "metadata": {},
   "outputs": [],
   "source": [
    "corpus = doc"
   ]
  },
  {
   "cell_type": "code",
   "execution_count": 129,
   "id": "7a28d3ad",
   "metadata": {},
   "outputs": [],
   "source": [
    "start = time.time()\n",
    "corpus_embeddings = model.encode(corpus)\n",
    "end = time.time()"
   ]
  },
  {
   "cell_type": "markdown",
   "id": "24612661",
   "metadata": {},
   "source": [
    "**TIME FOR CORPUS EMBEDDING**"
   ]
  },
  {
   "cell_type": "code",
   "execution_count": 130,
   "id": "808a5917",
   "metadata": {},
   "outputs": [
    {
     "name": "stdout",
     "output_type": "stream",
     "text": [
      "76.59469866752625\n"
     ]
    }
   ],
   "source": [
    "print(end-start)"
   ]
  },
  {
   "cell_type": "code",
   "execution_count": 31,
   "id": "d21861ae",
   "metadata": {},
   "outputs": [
    {
     "data": {
      "text/plain": [
       "array([[ 0.02775722,  0.05267641,  0.04015062, ..., -0.05866615,\n",
       "         0.00846319,  0.04864185],\n",
       "       [ 0.02527369,  0.04208843,  0.03759762, ..., -0.04908524,\n",
       "         0.00619898,  0.06292736],\n",
       "       [ 0.03775888,  0.04834661,  0.02864701, ..., -0.04704093,\n",
       "         0.00470379,  0.06230151],\n",
       "       ...,\n",
       "       [-0.01687039,  0.03976665,  0.03239996, ..., -0.07296515,\n",
       "         0.0076263 ,  0.04420543],\n",
       "       [-0.01498506,  0.05285629,  0.04856495, ..., -0.05798703,\n",
       "        -0.01108014,  0.01968489],\n",
       "       [-0.00439278,  0.03293464,  0.06596583, ..., -0.05091678,\n",
       "         0.02726727,  0.06183447]], dtype=float32)"
      ]
     },
     "execution_count": 31,
     "metadata": {},
     "output_type": "execute_result"
    }
   ],
   "source": [
    "corpus_embeddings"
   ]
  },
  {
   "attachments": {
    "image.png": {
     "image/png": "[encoded data removed]"
    }
   },
   "cell_type": "markdown",
   "id": "933d0044",
   "metadata": {},
   "source": [
    "# Cosine Similarity\n",
    "*cosine_similarity* computes the L2-normalized dot product of vectors. That is, if \n",
    " and \n",
    " are row vectors, their cosine similarity \n",
    " is defined as:\n",
    "![image.png](attachment:image.png)\n",
    "This is called cosine similarity, because Euclidean (L2) normalization projects the vectors onto the unit sphere, and their dot product is then the cosine of the angle between the points denoted by the vectors.\n",
    "\n",
    "This kernel is a popular choice for computing the similarity of documents represented as tf-idf vectors."
   ]
  },
  {
   "cell_type": "code",
   "execution_count": 168,
   "id": "1804a083",
   "metadata": {},
   "outputs": [],
   "source": [
    "start = time.time()\n",
    "similarities = cosine_similarity(query_embeddings,corpus_embeddings)\n",
    "end = time.time()"
   ]
  },
  {
   "cell_type": "code",
   "execution_count": 169,
   "id": "58f36e6d",
   "metadata": {},
   "outputs": [
    {
     "name": "stdout",
     "output_type": "stream",
     "text": [
      "0.02609395980834961\n"
     ]
    }
   ],
   "source": [
    "print(end-start)"
   ]
  },
  {
   "cell_type": "code",
   "execution_count": 74,
   "id": "799747d7",
   "metadata": {},
   "outputs": [
    {
     "data": {
      "text/plain": [
       "array([[0.7956069 , 0.7733009 , 0.8368037 , 0.7844873 , 0.7979003 ,\n",
       "        0.8141267 , 0.78298306, 0.795355  , 0.768329  , 0.7626423 ,\n",
       "        0.78499234, 0.7550276 , 0.74981713, 0.7709104 , 0.7702655 ,\n",
       "        0.80745065, 0.7833276 , 0.80877495, 0.80755734, 0.77418613,\n",
       "        0.81433684, 0.81045306, 0.86120445, 0.8159894 , 0.8151046 ,\n",
       "        0.80410564, 0.773083  , 0.78561985, 0.75713   , 0.79542714,\n",
       "        0.7533687 , 0.7464546 , 0.7254692 , 0.7637211 , 0.76558983,\n",
       "        0.74105054, 0.74473196, 0.74000967, 0.72970796, 0.75152856,\n",
       "        0.712331  , 0.71633506, 0.7571912 , 0.7637705 , 0.7653213 ,\n",
       "        0.7410002 , 0.7473608 , 0.7778744 , 0.7157135 , 0.77793586]],\n",
       "      dtype=float32)"
      ]
     },
     "execution_count": 74,
     "metadata": {},
     "output_type": "execute_result"
    }
   ],
   "source": [
    "similarities"
   ]
  },
  {
   "cell_type": "markdown",
   "id": "9d990be3",
   "metadata": {},
   "source": [
    "# Select top-k vectors"
   ]
  },
  {
   "cell_type": "markdown",
   "id": "a3924ab1",
   "metadata": {},
   "source": [
    "### Top 5"
   ]
  },
  {
   "cell_type": "code",
   "execution_count": 170,
   "id": "d9b5707f",
   "metadata": {
    "scrolled": true
   },
   "outputs": [],
   "source": [
    "index_max = np.argsort(similarities[0])[::-1]"
   ]
  },
  {
   "cell_type": "code",
   "execution_count": 171,
   "id": "57c2c2bf",
   "metadata": {},
   "outputs": [
    {
     "data": {
      "text/plain": [
       "array([36, 33, 44,  3, 34])"
      ]
     },
     "execution_count": 171,
     "metadata": {},
     "output_type": "execute_result"
    }
   ],
   "source": [
    "index_max[:5]"
   ]
  },
  {
   "cell_type": "code",
   "execution_count": 172,
   "id": "a68fa8b6",
   "metadata": {},
   "outputs": [],
   "source": [
    "top_5 = similarities[0,index_max[:5]]"
   ]
  },
  {
   "cell_type": "code",
   "execution_count": 173,
   "id": "16a15313",
   "metadata": {},
   "outputs": [
    {
     "data": {
      "text/plain": [
       "array([0.85904086, 0.83705264, 0.82347536, 0.8147657 , 0.8145888 ],\n",
       "      dtype=float32)"
      ]
     },
     "execution_count": 173,
     "metadata": {},
     "output_type": "execute_result"
    }
   ],
   "source": [
    "top_5"
   ]
  },
  {
   "cell_type": "markdown",
   "id": "ca769375",
   "metadata": {},
   "source": [
    "### Min 5"
   ]
  },
  {
   "cell_type": "code",
   "execution_count": 142,
   "id": "ea021c40",
   "metadata": {
    "scrolled": true
   },
   "outputs": [],
   "source": [
    "index_min = np.argsort(similarities[0])"
   ]
  },
  {
   "cell_type": "code",
   "execution_count": 143,
   "id": "8b64b6e9",
   "metadata": {},
   "outputs": [
    {
     "data": {
      "text/plain": [
       "array([35, 48, 41, 40, 46])"
      ]
     },
     "execution_count": 143,
     "metadata": {},
     "output_type": "execute_result"
    }
   ],
   "source": [
    "index_min[:5]"
   ]
  },
  {
   "cell_type": "code",
   "execution_count": 144,
   "id": "c8803f54",
   "metadata": {},
   "outputs": [],
   "source": [
    "min_5 = similarities[0,index_min[:5]]"
   ]
  },
  {
   "cell_type": "code",
   "execution_count": 145,
   "id": "27d2806b",
   "metadata": {
    "scrolled": true
   },
   "outputs": [
    {
     "data": {
      "text/plain": [
       "array([0.6834934 , 0.68499565, 0.6982652 , 0.70805377, 0.71354616],\n",
       "      dtype=float32)"
      ]
     },
     "execution_count": 145,
     "metadata": {},
     "output_type": "execute_result"
    }
   ],
   "source": [
    "min_5"
   ]
  },
  {
   "cell_type": "markdown",
   "id": "ca41bb77",
   "metadata": {},
   "source": [
    "# Cosine Distance\n",
    "Cosine distance is defined as : 1 - (cosine similarity)"
   ]
  },
  {
   "cell_type": "code",
   "execution_count": null,
   "id": "cb1bb105",
   "metadata": {},
   "outputs": [],
   "source": []
  },
  {
   "cell_type": "markdown",
   "id": "5fdfaa4f",
   "metadata": {},
   "source": [
    "# MMR Score\n",
    "MMR score = λ * relevance score - (1 - λ) * diversity score"
   ]
  },
  {
   "cell_type": "code",
   "execution_count": null,
   "id": "dde66bd0",
   "metadata": {},
   "outputs": [],
   "source": []
  },
  {
   "cell_type": "markdown",
   "id": "a0a929dc",
   "metadata": {},
   "source": [
    "# Plot"
   ]
  },
  {
   "cell_type": "code",
   "execution_count": 174,
   "id": "097ffb36",
   "metadata": {
    "scrolled": true
   },
   "outputs": [
    {
     "data": {
      "image/png": "[encoded data removed]",
      "text/plain": [
       "<Figure size 640x480 with 1 Axes>"
      ]
     },
     "metadata": {},
     "output_type": "display_data"
    }
   ],
   "source": [
    "import numpy as np\n",
    "import matplotlib.pyplot as plt\n",
    "import matplotlib.ticker as ticker\n",
    "\n",
    "y = similarities[0]\n",
    "\n",
    "x = range(len(y))\n",
    "\n",
    "plt.scatter( x, y, marker='.')\n",
    "\n",
    "def annot_max(x,y, ax=None):\n",
    "    xmax = x[np.argmax(y)]\n",
    "    ymax = y.max()\n",
    "    text= \"x={:}, y={:.3f}\".format(xmax, ymax)\n",
    "    if not ax:\n",
    "        ax=plt.gca()\n",
    "    bbox_props = dict(boxstyle=\"square,pad=0.3\", fc=\"w\", ec=\"k\", lw=0.72)\n",
    "    arrowprops=dict(arrowstyle=\"->\",connectionstyle=\"angle,angleA=0,angleB=60\")\n",
    "    kw = dict(xycoords='data',textcoords=\"axes fraction\",\n",
    "              arrowprops=arrowprops, bbox=bbox_props, ha=\"right\", va=\"top\")\n",
    "    ax.annotate(text, xy=(xmax, ymax), xytext=(0.94,0.96), **kw)\n",
    "    \n",
    "annot_max(x,y)\n",
    "\n",
    "\n",
    "plt.xlabel('Index')\n",
    "plt.ylabel('Value')\n",
    "plt.title('Chunks: -{}- \\n Query: -{}-'.format(domain, query))\n",
    "plt.show()"
   ]
  },
  {
   "cell_type": "code",
   "execution_count": null,
   "id": "279aa5f6",
   "metadata": {},
   "outputs": [],
   "source": []
  },
  {
   "cell_type": "markdown",
   "id": "f4235fd7",
   "metadata": {},
   "source": [
    "## TOP 5 Chunks Comparison"
   ]
  },
  {
   "cell_type": "code",
   "execution_count": 175,
   "id": "ebd1743c",
   "metadata": {
    "scrolled": false
   },
   "outputs": [
    {
     "name": "stdout",
     "output_type": "stream",
     "text": [
      "Quelles sont les caractéritiques de l'état d'une installation ?\n",
      "CHUNK NUMBER  36\n",
      "------------------------\n",
      "['Retrieving the nuclear reactor domain: ', '950 Éléments de sûreté nucléaire\\xa0–\\xa0Les réacteurs à eau sous pression\\n secondaire, pressions de vapeur et niveaux de radioactivité éventuelle du \\nfluide secondaire.\\nÀ chaque état global ainsi défini sont associées des actions spécifiques sur les diffé -\\nrents systèmes, en fonction de leur disponibilité (injection de sécurité, charge et décharge \\nd’eau dans le circuit primaire, aspersion d’eau dans l’enceinte de confinement et décharge du pressuriseur, alimentation de secours en eau des générateurs de vapeur, décharge de vapeur d’eau par le circuit secondaire, isolement des lignes de vapeur et d’eau du circuit secondaire, etc.). Ces actions sont choisies en vue de stabiliser l’état de l’installation et si possible l’améliorer en progressant vers des états de moins en moins dégradés.\\nD’un point de vue pratique, les paramètres physiques caractérisant l’état de l’instal -\\nlation ont en définitive été regroupés en six fonctions d’état  :\\n –la sous-criticité du cœur ou le niveau de puissance nucléaire,\\n –l’inventaire en eau du circuit primaire,\\n –l’évacuation de la puissance résiduelle hors du circuit du primaire,\\n –l’intégrité des générateurs de vapeur,\\n –l’inventaire en eau des générateurs de vapeur,\\n –l’intégrité de l’enceinte de confinement.\\nPour tenir compte de l’état de l’inst']\n",
      "---------------------------------------------------------------------\n",
      "Quelles sont les caractéritiques de l'état d'une installation ?\n",
      "CHUNK NUMBER  33\n",
      "------------------------\n",
      "['Retrieving the nuclear reactor domain: ', 'difficulté d’application pratique, \\nà savoir l’impossibilité de reprendre le diagnostic initial en cas d’évolution de l’installa -\\ntion non conforme aux prévisions de ce diagnostic.\\nPour sortir de cette impasse, Électricité de France  et Framatome, constructeur \\ndes chaudières, ont proposé d’aborder le choix des mesures correctives à appliquer \\nen situation incidentelle ou accidentelle, quelle qu’elle soit, par une voie différente  : \\nl’approche par états. Les discussions sur ce sujet avec le Service central de sûreté des installations nucléaires et l’IPSN ont démarré en 1984.\\n33.2. Le concept de l’approche par états\\nLe concept de l’approche par états repose sur un constat  : si les événements acci -\\ndentels et leur déroulement peuvent être très variés, les états de réactivité, de refroi -\\ndissement et de confinement possibles du réacteur peuvent par contre être dénombrés, depuis les conditions normales de fonctionnement jusqu’aux états les plus dégradés.\\nIl est alors possible de déterminer, pour chacun des états anormaux, une stratégie \\nde conduite et des actions à mener par les opérateurs permettant de ramener l’instal-lation dans une situation plus satisfaisante au plan de la sûreté. L’équipe de conduite peut ainsi, sur la base d’un diagnostic permanent de l’installation, effectuer ces actions sans avoir nécessairement compris l’enchaînement des événements antérieurs.\\nPour cela, il a fallu montrer qu’il existe une relation directe entre les états obser -\\nvables et des ensembles d’actions à mener par les opérateurs pour améliorer la situation.']\n",
      "---------------------------------------------------------------------\n",
      "Quelles sont les caractéritiques de l'état d'une installation ?\n",
      "CHUNK NUMBER  44\n",
      "------------------------\n",
      "['Retrieving the nuclear reactor domain: ', '954 Éléments de sûreté nucléaire\\xa0–\\xa0Les réacteurs à eau sous pression\\n33.5. L’approche par états «  stabilisée  »\\nAprès diverses «  générations  » de l’approche par états, la conduite incidentelle et \\naccidentelle s’est stabilisée selon le schéma décrit ci-après.\\n1. Un document, appelé document d’orientation et de stabilisation ( DOS), permet \\nde guider les opérateurs en salle de commande sur les actions à entreprendre en \\nfonction des informations et alarmes qu’ils reçoivent.\\n2. À l’interface entre le fonctionnement normal et les procédures APE, l’équipe de conduite dispose de quelques règles, procédures (dont une procédure dite \\nde surveillance permanente par états [SPE], qui se substitue à la procédure SPI) et consignes incidentelles (de type I-système) que les opérateurs peuvent être \\namenés à utiliser dans quelques cas précis de situations «  dégradées  »  :\\n •en cas de perte du réseau électrique principal, la consigne d’îlotage,\\n •en cas d’apparition de fuites primaires ou de dysfonctionnement des fonctions de charge et de décharge du circuit primaire, la consigne I-RCV,\\n •en cas de dysfonctionnement des barres de contrôle, la consigne I-RGL,\\n •en cas de dysfonctionnement des groupes motopompes primaires, la consigne I-RCP (problèmes spécifi']\n",
      "---------------------------------------------------------------------\n",
      "Quelles sont les caractéritiques de l'état d'une installation ?\n",
      "CHUNK NUMBER  3\n",
      "------------------------\n",
      "['Retrieving the nuclear reactor domain: ', 'ons de conception des installations et se poursuit, bien entendu, lors des études de conception puis de définition des règles et procédures d’exploitation, enfin tout au long de l’exploitation des installations et lors de leur démantèlement.\\n4.1.  Les débuts des FOH dans le domaine des réacteurs \\nélectronucléaires, les enseignements tirés  de l’accident de la centrale nucléaire  de Three\\xa0Mile Island\\nÀ l’époque du démarrage des premières tranches du parc électronucléaire français 165, \\ndans les années 1970, l’accent était mis sur la fiabilité technique des installations, prin -\\ncipalement liée à la qualité de leur conception, au maintien en exploitation de la confor-mité des équipements, aux exigences qui leur étaient applicables et à l’existence de procédures d’exploitation préétablies, aussi bien à l’égard des situations normales d’ex -\\nploitation qu’à l’égard d’un certain nombre de situations anormales considérées comme \\n163.  Il s’agit de systèmes qui comportent de nombreuses composantes techniques, humaines, organi -\\nsationnelles, sociales qui sont en interaction.\\n164.  Pour en savoir plus, le lecteur pourra consulter l’ouvrage de F.\\xa0 Daniellou, M.\\xa0Simard et I.\\xa0  Boissières \\nintitulé «  Facteurs humains et organisationnels de la sécurité industrielle  : un état de l’art  », \\nn°\\xa02010-02 des Cahiers de la sécurité industrielle, Institut pour une culture de sécurité indus -\\ntrielle, Toulouse, France (ISSN 2100-3874). Disponible à l’URL https://www.foncsi.org/fr/publica-\\ntions/cahiers-securite-industrielle/facteurs-humains-et-organisationnels/CSI-FHOS-etat-art.pdf\\n165.  Divers éléments du présent chapitre sont issus du «  Mémento Sûreté nucléaire en exploita -\\ntion »\\xa0–\\xa0EDF, édition 2016.']\n",
      "---------------------------------------------------------------------\n",
      "Quelles sont les caractéritiques de l'état d'une installation ?\n",
      "CHUNK NUMBER  34\n",
      "------------------------\n",
      "['Retrieving the nuclear reactor domain: ', 'La conduite incidentelle et\\xa0accidentelle  : de l’approche événementielle à l’approche par états  949\\nIl a ainsi fallu caractériser les états de réactivité du réacteur et les actions à mener \\npour chaque état. Un effort équivalent a été effectué pour ce qui concerne la ther -\\nmohydraulique, afin  :\\n –de déterminer tous les états de refroidissement possibles de la chaudière, leurs \\ndomaines de stabilité et les transitions entre états,\\n –de caractériser ces différents états par des grandeurs physiques mesurables,\\n –de déterminer, pour chacun de ces états, les actions correctives ou réparatrices \\nà mener par les opérateurs, considérées comme les meilleures, dans le sens \\nqu’elles améliorent la situation pour l’ensemble des événements conduisant à cet état, sans obérer la suite,\\n –de construire une synthèse des points précédents où ne sont plus distingués que les sous-ensembles d’états nécessitant des actions différentes,\\n –de déterminer les mesures physiques et les traitements d’informations en salle de commande nécessaires pour effectuer le diagnostic d’état et suivre l’effica -\\ncité des actions effectuées.\\nAu plan thermohydraulique, le fonctionnement de la chaudière a donc été analysé \\nà partir des bilans fondamentaux de masse, d’énergie et d’impulsion de chacun de ses \\ngrands éléments. Peuvent alors être caractérisés  :\\n –le cheminement de l’énergie  : production dans le combustible\\xa0 –\\xa0e']\n",
      "---------------------------------------------------------------------\n"
     ]
    }
   ],
   "source": [
    "for chunk in index_max[:5]:\n",
    "    print(query[0][1])\n",
    "    print(\"CHUNK NUMBER \", chunk)\n",
    "    print(\"------------------------\")\n",
    "    print(doc[chunk])\n",
    "    print(\"---------------------------------------------------------------------\")"
   ]
  },
  {
   "cell_type": "code",
   "execution_count": null,
   "id": "0dec5611",
   "metadata": {},
   "outputs": [],
   "source": []
  },
  {
   "cell_type": "code",
   "execution_count": 70,
   "id": "0f390da2",
   "metadata": {},
   "outputs": [],
   "source": [
    "doc_id = np.argmax(similarities)"
   ]
  },
  {
   "cell_type": "code",
   "execution_count": 154,
   "id": "84b49b0e",
   "metadata": {},
   "outputs": [
    {
     "data": {
      "text/plain": [
       "39"
      ]
     },
     "execution_count": 154,
     "metadata": {},
     "output_type": "execute_result"
    }
   ],
   "source": [
    "len(doc[11][0])"
   ]
  },
  {
   "cell_type": "code",
   "execution_count": null,
   "id": "c4306774",
   "metadata": {},
   "outputs": [],
   "source": []
  }
 ],
 "metadata": {
  "kernelspec": {
   "display_name": "Python 3 (ipykernel)",
   "language": "python",
   "name": "python3"
  },
  "language_info": {
   "codemirror_mode": {
    "name": "ipython",
    "version": 3
   },
   "file_extension": ".py",
   "mimetype": "text/x-python",
   "name": "python",
   "nbconvert_exporter": "python",
   "pygments_lexer": "ipython3",
   "version": "3.9.17"
  }
 },
 "nbformat": 4,
 "nbformat_minor": 5
}
